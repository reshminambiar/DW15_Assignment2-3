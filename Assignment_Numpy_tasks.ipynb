{
  "cells": [
    {
      "cell_type": "markdown",
      "metadata": {
        "id": "view-in-github",
        "colab_type": "text"
      },
      "source": [
        "<a href=\"https://colab.research.google.com/github/reshminambiar/DW15_Assignment2-3/blob/main/Assignment_Numpy_tasks.ipynb\" target=\"_parent\"><img src=\"https://colab.research.google.com/assets/colab-badge.svg\" alt=\"Open In Colab\"/></a>"
      ]
    },
    {
      "cell_type": "markdown",
      "metadata": {
        "id": "kOsSm8WjATmL"
      },
      "source": [
        "# Numpy\n",
        "\n"
      ]
    },
    {
      "cell_type": "markdown",
      "metadata": {
        "id": "bRB4Zq8pATmP"
      },
      "source": [
        "#### 1. Import the numpy package under the name `np` (★☆☆) \n",
        "(**hint**: import … as …)"
      ]
    },
    {
      "cell_type": "code",
      "execution_count": 1,
      "metadata": {
        "collapsed": true,
        "id": "7OdZXRxwATmQ"
      },
      "outputs": [],
      "source": [
        "import numpy as np"
      ]
    },
    {
      "cell_type": "markdown",
      "metadata": {
        "id": "-Nz7EmgdATmQ"
      },
      "source": [
        "#### 2. Print the numpy version and the configuration (★☆☆) \n",
        "(**hint**: np.\\_\\_version\\_\\_, np.show\\_config)"
      ]
    },
    {
      "cell_type": "code",
      "execution_count": null,
      "metadata": {
        "id": "16mB0LtsATmR",
        "colab": {
          "base_uri": "https://localhost:8080/",
          "height": 36
        },
        "outputId": "0a42e306-85aa-47c6-91f7-30a5dbab1e09"
      },
      "outputs": [
        {
          "output_type": "execute_result",
          "data": {
            "text/plain": [
              "'1.21.6'"
            ],
            "application/vnd.google.colaboratory.intrinsic+json": {
              "type": "string"
            }
          },
          "metadata": {},
          "execution_count": 3
        }
      ],
      "source": [
        "np.__version__"
      ]
    },
    {
      "cell_type": "code",
      "source": [
        "np.show_config()"
      ],
      "metadata": {
        "colab": {
          "base_uri": "https://localhost:8080/"
        },
        "id": "Ey7N5Q_eCkyN",
        "outputId": "1b400337-34ed-4688-a6d8-cca4af3af31f"
      },
      "execution_count": null,
      "outputs": [
        {
          "output_type": "stream",
          "name": "stdout",
          "text": [
            "blas_mkl_info:\n",
            "  NOT AVAILABLE\n",
            "blis_info:\n",
            "  NOT AVAILABLE\n",
            "openblas_info:\n",
            "    libraries = ['openblas', 'openblas']\n",
            "    library_dirs = ['/usr/local/lib']\n",
            "    language = c\n",
            "    define_macros = [('HAVE_CBLAS', None)]\n",
            "    runtime_library_dirs = ['/usr/local/lib']\n",
            "blas_opt_info:\n",
            "    libraries = ['openblas', 'openblas']\n",
            "    library_dirs = ['/usr/local/lib']\n",
            "    language = c\n",
            "    define_macros = [('HAVE_CBLAS', None)]\n",
            "    runtime_library_dirs = ['/usr/local/lib']\n",
            "lapack_mkl_info:\n",
            "  NOT AVAILABLE\n",
            "openblas_lapack_info:\n",
            "    libraries = ['openblas', 'openblas']\n",
            "    library_dirs = ['/usr/local/lib']\n",
            "    language = c\n",
            "    define_macros = [('HAVE_CBLAS', None)]\n",
            "    runtime_library_dirs = ['/usr/local/lib']\n",
            "lapack_opt_info:\n",
            "    libraries = ['openblas', 'openblas']\n",
            "    library_dirs = ['/usr/local/lib']\n",
            "    language = c\n",
            "    define_macros = [('HAVE_CBLAS', None)]\n",
            "    runtime_library_dirs = ['/usr/local/lib']\n",
            "Supported SIMD extensions in this NumPy install:\n",
            "    baseline = SSE,SSE2,SSE3\n",
            "    found = SSSE3,SSE41,POPCNT,SSE42,AVX,F16C,FMA3,AVX2\n",
            "    not found = AVX512F,AVX512CD,AVX512_KNL,AVX512_KNM,AVX512_SKX,AVX512_CLX,AVX512_CNL,AVX512_ICL\n"
          ]
        }
      ]
    },
    {
      "cell_type": "markdown",
      "metadata": {
        "id": "m4nHe0RuATmR"
      },
      "source": [
        "#### 3. Create a null vector of size 10 (★☆☆) \n",
        "(**hint**: np.zeros)"
      ]
    },
    {
      "cell_type": "code",
      "execution_count": null,
      "metadata": {
        "id": "4cHRJM4sATmS",
        "colab": {
          "base_uri": "https://localhost:8080/"
        },
        "outputId": "32e3e9e3-7f56-4217-a2f4-74c2d7462b9b"
      },
      "outputs": [
        {
          "output_type": "execute_result",
          "data": {
            "text/plain": [
              "array([0., 0., 0., 0., 0., 0., 0., 0., 0., 0.])"
            ]
          },
          "metadata": {},
          "execution_count": 3
        }
      ],
      "source": [
        "x =np.zeros(10)\n",
        "x"
      ]
    },
    {
      "cell_type": "markdown",
      "metadata": {
        "id": "H9UqXESCATmS"
      },
      "source": [
        "#### 4.  How to find the memory size of any array (★☆☆) \n",
        "(**hint**: size, itemsize)"
      ]
    },
    {
      "cell_type": "code",
      "execution_count": null,
      "metadata": {
        "id": "2Hyr5tPBATmT",
        "colab": {
          "base_uri": "https://localhost:8080/"
        },
        "outputId": "cef11297-c9dc-41fd-8ad6-511666ae014b"
      },
      "outputs": [
        {
          "output_type": "stream",
          "name": "stdout",
          "text": [
            "10\n",
            "8\n"
          ]
        }
      ],
      "source": [
        "print(x.size) #gives the size of the array\n",
        "print(x.itemsize) # gives the number of bytes(memory size) of a single element of the array"
      ]
    },
    {
      "cell_type": "markdown",
      "metadata": {
        "id": "ZcaDyTohATmT"
      },
      "source": [
        "#### 5.  How to get the documentation of the numpy add function from the command line? (★☆☆) \n",
        "(**hint**: np.info)"
      ]
    },
    {
      "cell_type": "code",
      "source": [
        "np.info(np.add)"
      ],
      "metadata": {
        "id": "YzBQLiK0D8fL"
      },
      "execution_count": null,
      "outputs": []
    },
    {
      "cell_type": "markdown",
      "metadata": {
        "id": "efvyAsJrATmU"
      },
      "source": [
        "#### 6.  Create a null vector of size 10 but the fifth value which is 1 (★☆☆) \n",
        "(**hint**: array\\[4\\])"
      ]
    },
    {
      "cell_type": "code",
      "execution_count": null,
      "metadata": {
        "id": "rG2f1wI1ATmU",
        "colab": {
          "base_uri": "https://localhost:8080/"
        },
        "outputId": "4f4170c7-3cdd-48a5-9552-ecbc44cbd1ec"
      },
      "outputs": [
        {
          "output_type": "execute_result",
          "data": {
            "text/plain": [
              "array([0., 0., 0., 0., 1., 0., 0., 0., 0., 0.])"
            ]
          },
          "metadata": {},
          "execution_count": 14
        }
      ],
      "source": [
        "x = np.zeros(10)\n",
        "x[4] = 1\n",
        "x"
      ]
    },
    {
      "cell_type": "markdown",
      "metadata": {
        "id": "8NTGH8eJATmV"
      },
      "source": [
        "#### 7.  Create a vector with values ranging from 10 to 49 (★☆☆) \n",
        "(**hint**: np.arange)"
      ]
    },
    {
      "cell_type": "code",
      "execution_count": null,
      "metadata": {
        "id": "FEbEJC7RATmV",
        "colab": {
          "base_uri": "https://localhost:8080/"
        },
        "outputId": "3376629f-e4c6-4a3f-cf39-f19df4e62197"
      },
      "outputs": [
        {
          "output_type": "execute_result",
          "data": {
            "text/plain": [
              "array([10, 11, 12, 13, 14, 15, 16, 17, 18, 19, 20, 21, 22, 23, 24, 25, 26,\n",
              "       27, 28, 29, 30, 31, 32, 33, 34, 35, 36, 37, 38, 39, 40, 41, 42, 43,\n",
              "       44, 45, 46, 47, 48, 49])"
            ]
          },
          "metadata": {},
          "execution_count": 15
        }
      ],
      "source": [
        "x = np.arange(10,50)\n",
        "x"
      ]
    },
    {
      "cell_type": "markdown",
      "metadata": {
        "id": "x10UR2z4ATmV"
      },
      "source": [
        "#### 8.  Reverse a vector (first element becomes last) (★☆☆) \n",
        "(**hint**: array\\[::-1\\])"
      ]
    },
    {
      "cell_type": "code",
      "execution_count": null,
      "metadata": {
        "id": "erNcFCd6ATmW",
        "colab": {
          "base_uri": "https://localhost:8080/"
        },
        "outputId": "0301c504-114c-46a3-d674-5861d24200d9"
      },
      "outputs": [
        {
          "output_type": "execute_result",
          "data": {
            "text/plain": [
              "[5, 4, 3, 2, 1]"
            ]
          },
          "metadata": {},
          "execution_count": 16
        }
      ],
      "source": [
        "x = [1,2,3,4,5]\n",
        "x[::-1]"
      ]
    },
    {
      "cell_type": "markdown",
      "metadata": {
        "id": "zIZ1ljihATmW"
      },
      "source": [
        "#### 9.  Create a 3x3 matrix with values ranging from 0 to 8 (★☆☆) \n",
        "(**hint**: reshape)"
      ]
    },
    {
      "cell_type": "code",
      "execution_count": null,
      "metadata": {
        "id": "e4dJOIE8ATmW",
        "colab": {
          "base_uri": "https://localhost:8080/"
        },
        "outputId": "8c3807d4-2416-46e9-929f-faf60efa974a"
      },
      "outputs": [
        {
          "output_type": "execute_result",
          "data": {
            "text/plain": [
              "array([[0, 1, 2],\n",
              "       [3, 4, 5],\n",
              "       [6, 7, 8]])"
            ]
          },
          "metadata": {},
          "execution_count": 22
        }
      ],
      "source": [
        "np.arange(0,9).reshape(3,3)"
      ]
    },
    {
      "cell_type": "markdown",
      "metadata": {
        "id": "t6Y81cYwATmW"
      },
      "source": [
        "#### 10. Find indices of non-zero elements from \\[1,2,0,0,4,0\\] (★☆☆) \n",
        "(**hint**: np.nonzero)"
      ]
    },
    {
      "cell_type": "code",
      "execution_count": null,
      "metadata": {
        "id": "Bx1ASz-XATmW",
        "colab": {
          "base_uri": "https://localhost:8080/"
        },
        "outputId": "91f4d356-6df3-40d8-cee9-54b3dc89986e"
      },
      "outputs": [
        {
          "output_type": "execute_result",
          "data": {
            "text/plain": [
              "(array([0, 1, 4]),)"
            ]
          },
          "metadata": {},
          "execution_count": 24
        }
      ],
      "source": [
        "x = [1,2,0,0,4,0]\n",
        "np.nonzero(x)"
      ]
    },
    {
      "cell_type": "markdown",
      "metadata": {
        "id": "APtQ3fPuATmX"
      },
      "source": [
        "#### 11. Create a 3x3 identity matrix (★☆☆) \n",
        "(**hint**: np.eye)"
      ]
    },
    {
      "cell_type": "code",
      "execution_count": null,
      "metadata": {
        "id": "8bCPYRBNATmX",
        "colab": {
          "base_uri": "https://localhost:8080/"
        },
        "outputId": "f33f30cd-a6a0-4b29-da8e-2baea7ec65af"
      },
      "outputs": [
        {
          "output_type": "execute_result",
          "data": {
            "text/plain": [
              "array([[1., 0., 0.],\n",
              "       [0., 1., 0.],\n",
              "       [0., 0., 1.]])"
            ]
          },
          "metadata": {},
          "execution_count": 25
        }
      ],
      "source": [
        "np.eye(3,3)"
      ]
    },
    {
      "cell_type": "markdown",
      "metadata": {
        "id": "oImeLFTbATmX"
      },
      "source": [
        "#### 12. Create a 3x3x3 array with random values (★☆☆) \n",
        "(**hint**: np.random.random)"
      ]
    },
    {
      "cell_type": "code",
      "execution_count": null,
      "metadata": {
        "id": "KUwUDdToATmX",
        "colab": {
          "base_uri": "https://localhost:8080/"
        },
        "outputId": "97eff85a-1065-4d55-c577-a51a49e4248e"
      },
      "outputs": [
        {
          "output_type": "execute_result",
          "data": {
            "text/plain": [
              "array([[[0.93401488, 0.00928334, 0.7189498 ],\n",
              "        [0.37155234, 0.82521581, 0.55885032],\n",
              "        [0.19725802, 0.98273073, 0.20844638]],\n",
              "\n",
              "       [[0.83871268, 0.37879405, 0.53415168],\n",
              "        [0.36811686, 0.63987623, 0.18465626],\n",
              "        [0.97928046, 0.49230988, 0.24578944]],\n",
              "\n",
              "       [[0.20255649, 0.59476339, 0.54549611],\n",
              "        [0.79971127, 0.57697067, 0.90722578],\n",
              "        [0.88588456, 0.13369943, 0.73900153]]])"
            ]
          },
          "metadata": {},
          "execution_count": 7
        }
      ],
      "source": [
        "np.random.random((3,3,3))"
      ]
    },
    {
      "cell_type": "markdown",
      "metadata": {
        "id": "5S2qMouCATmX"
      },
      "source": [
        "#### 13. Create a 10x10 array with random values and find the minimum and maximum values (★☆☆) \n",
        "(**hint**: min, max)"
      ]
    },
    {
      "cell_type": "code",
      "execution_count": null,
      "metadata": {
        "id": "uxo8boPKATmX"
      },
      "outputs": [],
      "source": [
        "x = np.random.randint(10,100,(10,10))"
      ]
    },
    {
      "cell_type": "code",
      "source": [
        "x"
      ],
      "metadata": {
        "colab": {
          "base_uri": "https://localhost:8080/"
        },
        "id": "4zoCK0NcTeKb",
        "outputId": "11766d80-5ee5-4894-b9e5-288f1ce4f956"
      },
      "execution_count": null,
      "outputs": [
        {
          "output_type": "execute_result",
          "data": {
            "text/plain": [
              "array([[42, 26, 64, 56, 34, 56, 99, 95, 17, 67],\n",
              "       [99, 82, 81, 57, 18, 24, 27, 46, 37, 76],\n",
              "       [58, 94, 36, 56, 38, 71, 96, 64, 51, 60],\n",
              "       [65, 99, 40, 32, 89, 18, 73, 51, 87, 86],\n",
              "       [26, 13, 89, 61, 60, 50, 77, 83, 63, 38],\n",
              "       [80, 35, 11, 91, 77, 19, 21, 86, 97, 96],\n",
              "       [44, 30, 30, 15, 92, 91, 20, 26, 41, 54],\n",
              "       [58, 91, 53, 60, 87, 78, 87, 58, 18, 15],\n",
              "       [49, 54, 32, 79, 61, 35, 42, 20, 92, 26],\n",
              "       [75, 80, 15, 17, 11, 35, 59, 91, 90, 20]])"
            ]
          },
          "metadata": {},
          "execution_count": 5
        }
      ]
    },
    {
      "cell_type": "code",
      "source": [
        "np.min(x)"
      ],
      "metadata": {
        "colab": {
          "base_uri": "https://localhost:8080/"
        },
        "id": "9gYScqIzTXpT",
        "outputId": "2d1380ae-3c50-471c-e872-da7e46d60368"
      },
      "execution_count": null,
      "outputs": [
        {
          "output_type": "execute_result",
          "data": {
            "text/plain": [
              "11"
            ]
          },
          "metadata": {},
          "execution_count": 3
        }
      ]
    },
    {
      "cell_type": "code",
      "source": [
        "np.max(x)"
      ],
      "metadata": {
        "colab": {
          "base_uri": "https://localhost:8080/"
        },
        "id": "_BAG_d4xTaV2",
        "outputId": "aaa71118-a667-43ea-fff7-7279004f6b49"
      },
      "execution_count": null,
      "outputs": [
        {
          "output_type": "execute_result",
          "data": {
            "text/plain": [
              "99"
            ]
          },
          "metadata": {},
          "execution_count": 4
        }
      ]
    },
    {
      "cell_type": "markdown",
      "metadata": {
        "id": "Y4FM67gzATmY"
      },
      "source": [
        "#### 14. Create a random vector of size 30 and find the mean value (★☆☆) \n",
        "(**hint**: mean)"
      ]
    },
    {
      "cell_type": "code",
      "execution_count": null,
      "metadata": {
        "id": "KexRvpCMATmY"
      },
      "outputs": [],
      "source": [
        "x = np.random.rand(30)"
      ]
    },
    {
      "cell_type": "code",
      "source": [
        "x"
      ],
      "metadata": {
        "colab": {
          "base_uri": "https://localhost:8080/"
        },
        "id": "siIaZr5xTzVs",
        "outputId": "245e75b0-7bf8-4dfe-cec6-cfd3506fce6c"
      },
      "execution_count": null,
      "outputs": [
        {
          "output_type": "execute_result",
          "data": {
            "text/plain": [
              "array([0.60296905, 0.52494743, 0.23564766, 0.23727492, 0.37589764,\n",
              "       0.9948943 , 0.59463924, 0.43199603, 0.51979372, 0.07173442,\n",
              "       0.51527425, 0.54208393, 0.93185844, 0.75641582, 0.53606824,\n",
              "       0.40614098, 0.22988728, 0.5484185 , 0.18594264, 0.22220604,\n",
              "       0.15446832, 0.190715  , 0.23141329, 0.37757106, 0.25631671,\n",
              "       0.07989531, 0.96692433, 0.22501638, 0.57892782, 0.95497965])"
            ]
          },
          "metadata": {},
          "execution_count": 10
        }
      ]
    },
    {
      "cell_type": "code",
      "source": [
        "np.mean(x)"
      ],
      "metadata": {
        "colab": {
          "base_uri": "https://localhost:8080/"
        },
        "id": "SoNX--cPT2OW",
        "outputId": "42357225-dc58-4fd5-fd9a-3130704d12ee"
      },
      "execution_count": null,
      "outputs": [
        {
          "output_type": "execute_result",
          "data": {
            "text/plain": [
              "0.4493439467794154"
            ]
          },
          "metadata": {},
          "execution_count": 11
        }
      ]
    },
    {
      "cell_type": "markdown",
      "metadata": {
        "id": "xWByKckhATmY"
      },
      "source": [
        "#### 15. Create a 2d array with 1 on the border and 0 inside (★☆☆) \n",
        "(**hint**: array\\[1:-1, 1:-1\\])"
      ]
    },
    {
      "cell_type": "code",
      "execution_count": null,
      "metadata": {
        "id": "bTJAeHJ7ATmY",
        "colab": {
          "base_uri": "https://localhost:8080/"
        },
        "outputId": "765f0294-d681-4eca-f4cd-94beb444bb2b"
      },
      "outputs": [
        {
          "output_type": "execute_result",
          "data": {
            "text/plain": [
              "array([[1., 1., 1., 1., 1., 1.],\n",
              "       [1., 0., 0., 0., 0., 1.],\n",
              "       [1., 0., 0., 0., 0., 1.],\n",
              "       [1., 0., 0., 0., 0., 1.],\n",
              "       [1., 0., 0., 0., 0., 1.],\n",
              "       [1., 1., 1., 1., 1., 1.]])"
            ]
          },
          "metadata": {},
          "execution_count": 4
        }
      ],
      "source": [
        "x = np.ones((6,6))\n",
        "x[1:-1,1:-1] =0\n",
        "x"
      ]
    },
    {
      "cell_type": "markdown",
      "metadata": {
        "id": "sZY2-8K0ATmY"
      },
      "source": [
        "#### 16. How to add a border (filled with 0's) around an existing array? (★☆☆) \n",
        "(**hint**: np.pad)"
      ]
    },
    {
      "cell_type": "code",
      "execution_count": null,
      "metadata": {
        "id": "GEYda3AdATmY",
        "colab": {
          "base_uri": "https://localhost:8080/"
        },
        "outputId": "4c4b538f-88a2-4d3a-c627-dfa53f60e312"
      },
      "outputs": [
        {
          "output_type": "execute_result",
          "data": {
            "text/plain": [
              "array([[0., 0., 0., 0., 0., 0., 0.],\n",
              "       [0., 1., 1., 1., 1., 1., 0.],\n",
              "       [0., 1., 1., 1., 1., 1., 0.],\n",
              "       [0., 1., 1., 1., 1., 1., 0.],\n",
              "       [0., 1., 1., 1., 1., 1., 0.],\n",
              "       [0., 1., 1., 1., 1., 1., 0.],\n",
              "       [0., 0., 0., 0., 0., 0., 0.]])"
            ]
          },
          "metadata": {},
          "execution_count": 5
        }
      ],
      "source": [
        "x = np.ones((5,5))\n",
        "np.pad(x,1,mode='constant',constant_values = 0)"
      ]
    },
    {
      "cell_type": "markdown",
      "metadata": {
        "id": "KBkLrEqPATmZ"
      },
      "source": [
        "#### 17. What is the result of the following expression? (★☆☆) \n",
        "(**hint**: NaN = not a number, inf = infinity)"
      ]
    },
    {
      "cell_type": "markdown",
      "metadata": {
        "id": "TWfabvhCATmZ"
      },
      "source": [
        "```python\n",
        "0 * np.nan\n",
        "np.nan == np.nan\n",
        "np.inf > np.nan\n",
        "np.nan - np.nan\n",
        "0.3 == 3 * 0.1\n",
        "```"
      ]
    },
    {
      "cell_type": "code",
      "execution_count": null,
      "metadata": {
        "id": "Ungz_SJkATmZ",
        "colab": {
          "base_uri": "https://localhost:8080/"
        },
        "outputId": "a99130ef-c215-4afc-e19e-c9ad718edf8f"
      },
      "outputs": [
        {
          "output_type": "stream",
          "name": "stdout",
          "text": [
            "nan\n",
            "False\n",
            "False\n",
            "nan\n",
            "False\n"
          ]
        }
      ],
      "source": [
        "print(0 * np.nan)\n",
        "print(np.nan == np.nan)\n",
        "print(np.inf > np.nan)\n",
        "print(np.nan - np.nan)\n",
        "print(0.3 == 3 * 0.1)"
      ]
    },
    {
      "cell_type": "markdown",
      "metadata": {
        "id": "rtsBB33JATmZ"
      },
      "source": [
        "#### 18. Create a 5x5 matrix with values 1,2,3,4 just below the diagonal (★☆☆) \n",
        "(**hint**: np.diag)"
      ]
    },
    {
      "cell_type": "code",
      "execution_count": null,
      "metadata": {
        "id": "lEQTrfPWATmZ",
        "colab": {
          "base_uri": "https://localhost:8080/"
        },
        "outputId": "cfa9cd8b-d47e-418b-86f9-5f646b0e2059"
      },
      "outputs": [
        {
          "output_type": "execute_result",
          "data": {
            "text/plain": [
              "array([[0, 0, 0, 0, 0],\n",
              "       [1, 0, 0, 0, 0],\n",
              "       [0, 2, 0, 0, 0],\n",
              "       [0, 0, 3, 0, 0],\n",
              "       [0, 0, 0, 4, 0]])"
            ]
          },
          "metadata": {},
          "execution_count": 6
        }
      ],
      "source": [
        "x = np.diag([1,2,3,4], k=-1)\n",
        "x"
      ]
    },
    {
      "cell_type": "markdown",
      "metadata": {
        "id": "IYAzBiV9ATmZ"
      },
      "source": [
        "#### 19. Create a 8x8 matrix and fill it with a checkerboard pattern (★☆☆) \n",
        "(**hint**: array\\[::2\\])"
      ]
    },
    {
      "cell_type": "code",
      "execution_count": null,
      "metadata": {
        "id": "WDCtwpw7ATma",
        "colab": {
          "base_uri": "https://localhost:8080/"
        },
        "outputId": "577441a2-943c-4755-fd43-5f0c354fe2ec"
      },
      "outputs": [
        {
          "output_type": "execute_result",
          "data": {
            "text/plain": [
              "array([[0., 1., 0., 1., 0., 1., 0., 1.],\n",
              "       [1., 0., 1., 0., 1., 0., 1., 0.],\n",
              "       [0., 1., 0., 1., 0., 1., 0., 1.],\n",
              "       [1., 0., 1., 0., 1., 0., 1., 0.],\n",
              "       [0., 1., 0., 1., 0., 1., 0., 1.],\n",
              "       [1., 0., 1., 0., 1., 0., 1., 0.],\n",
              "       [0., 1., 0., 1., 0., 1., 0., 1.],\n",
              "       [1., 0., 1., 0., 1., 0., 1., 0.]])"
            ]
          },
          "metadata": {},
          "execution_count": 9
        }
      ],
      "source": [
        "x = np.ones((8,8))\n",
        "x[::2]=0\n",
        "x[::2,1::2] = 1\n",
        "x[1::2,1::2]=0\n",
        "x"
      ]
    },
    {
      "cell_type": "markdown",
      "metadata": {
        "id": "0PhLdG7TATma"
      },
      "source": [
        "#### 20. Consider a (6,7,8) shape array, what is the index (x,y,z) of the 100th element? \n",
        "(**hint**: np.unravel_index)"
      ]
    },
    {
      "cell_type": "code",
      "source": [
        "x=np.arange(1,337).reshape(6,7,8)\n",
        "np.where(x == 100)"
      ],
      "metadata": {
        "colab": {
          "base_uri": "https://localhost:8080/"
        },
        "id": "WqOv6YXTHXO6",
        "outputId": "ae6a4296-25f5-4684-a2e9-627a658fed84"
      },
      "execution_count": null,
      "outputs": [
        {
          "output_type": "execute_result",
          "data": {
            "text/plain": [
              "(array([1]), array([5]), array([3]))"
            ]
          },
          "metadata": {},
          "execution_count": 10
        }
      ]
    },
    {
      "cell_type": "code",
      "source": [
        "print(np.unravel_index(99,(6,7,8)))"
      ],
      "metadata": {
        "colab": {
          "base_uri": "https://localhost:8080/"
        },
        "id": "-QHIxFu1ZK4Y",
        "outputId": "d13cea46-ea5e-42fa-ecf6-039f052cbe8d"
      },
      "execution_count": 4,
      "outputs": [
        {
          "output_type": "stream",
          "name": "stdout",
          "text": [
            "(1, 5, 3)\n"
          ]
        }
      ]
    },
    {
      "cell_type": "markdown",
      "metadata": {
        "id": "NXG9VaQCATma"
      },
      "source": [
        "#### 21. Create a checkerboard 8x8 matrix using the tile function (★☆☆) \n",
        "(**hint**: np.tile)"
      ]
    },
    {
      "cell_type": "code",
      "execution_count": null,
      "metadata": {
        "id": "VSSuMU1sATma",
        "colab": {
          "base_uri": "https://localhost:8080/"
        },
        "outputId": "e32d8f7f-2391-43db-dcc2-7c652301c8a2"
      },
      "outputs": [
        {
          "output_type": "execute_result",
          "data": {
            "text/plain": [
              "array([[1., 0., 1., 0., 1., 0., 1., 0.],\n",
              "       [0., 1., 0., 1., 0., 1., 0., 1.],\n",
              "       [1., 0., 1., 0., 1., 0., 1., 0.],\n",
              "       [0., 1., 0., 1., 0., 1., 0., 1.],\n",
              "       [1., 0., 1., 0., 1., 0., 1., 0.],\n",
              "       [0., 1., 0., 1., 0., 1., 0., 1.],\n",
              "       [1., 0., 1., 0., 1., 0., 1., 0.],\n",
              "       [0., 1., 0., 1., 0., 1., 0., 1.]])"
            ]
          },
          "metadata": {},
          "execution_count": 15
        }
      ],
      "source": [
        "x = np.eye(2)\n",
        "y = np.tile(x,(4,4))\n",
        "y"
      ]
    },
    {
      "cell_type": "markdown",
      "metadata": {
        "id": "XWfBPj1eATma"
      },
      "source": [
        "#### 22. Normalize a 5x5 random matrix (★☆☆) \n",
        "(**hint**: (x - min) / (max - min))"
      ]
    },
    {
      "cell_type": "code",
      "execution_count": null,
      "metadata": {
        "id": "BBqGcv6eATmb"
      },
      "outputs": [],
      "source": [
        "x = np.random.rand(5,5)"
      ]
    },
    {
      "cell_type": "code",
      "source": [
        "print(x,np.max(x), np.min(x))"
      ],
      "metadata": {
        "colab": {
          "base_uri": "https://localhost:8080/"
        },
        "id": "rXorRbcbW0fA",
        "outputId": "213acb0d-7de0-4da8-9608-2c991e6d034a"
      },
      "execution_count": null,
      "outputs": [
        {
          "output_type": "stream",
          "name": "stdout",
          "text": [
            "[[0.49823993 0.14035718 0.76655763 0.09375838 0.60954078]\n",
            " [0.77995904 0.24308068 0.59946634 0.79337268 0.57597931]\n",
            " [0.22858283 0.51298239 0.14821712 0.52901326 0.7237326 ]\n",
            " [0.14255908 0.97416733 0.72449941 0.06190746 0.82216727]\n",
            " [0.49107725 0.99488247 0.83677333 0.93780663 0.17472276]] 0.994882472755748 0.06190746163608052\n"
          ]
        }
      ]
    },
    {
      "cell_type": "code",
      "source": [
        "y = (x- np.min(x))/(np.max(x) - np.min(x))"
      ],
      "metadata": {
        "id": "cnIaKPiFWjIG"
      },
      "execution_count": null,
      "outputs": []
    },
    {
      "cell_type": "code",
      "source": [
        "y"
      ],
      "metadata": {
        "colab": {
          "base_uri": "https://localhost:8080/"
        },
        "id": "XZiWCSPzWysw",
        "outputId": "028a9af0-75ad-4fa3-9a21-8a8279d91ecc"
      },
      "execution_count": null,
      "outputs": [
        {
          "output_type": "execute_result",
          "data": {
            "text/plain": [
              "array([[0.46767863, 0.08408555, 0.75527228, 0.03413909, 0.58697533],\n",
              "       [0.76963645, 0.19418871, 0.57617715, 0.78401373, 0.55100281],\n",
              "       [0.17864934, 0.48348018, 0.09251015, 0.50066271, 0.7093707 ],\n",
              "       [0.08644564, 0.97779668, 0.7101926 , 0.        , 0.81487693],\n",
              "       [0.46000138, 1.        , 0.83053228, 0.93882383, 0.12091995]])"
            ]
          },
          "metadata": {},
          "execution_count": 18
        }
      ]
    },
    {
      "cell_type": "markdown",
      "metadata": {
        "id": "ObCx7zrqATmb"
      },
      "source": [
        "#### 23. Create a custom dtype that describes a color as four unsigned bytes (RGBA) (★☆☆) \n",
        "(**hint**: np.dtype)"
      ]
    },
    {
      "cell_type": "code",
      "execution_count": null,
      "metadata": {
        "collapsed": true,
        "id": "OEiVxzSeATmb"
      },
      "outputs": [],
      "source": [
        "color = np.dtype([(\"r\", np.ubyte),\n",
        "                  (\"g\", np.ubyte),\n",
        "                  (\"b\", np.ubyte),\n",
        "                  (\"a\", np.ubyte)])"
      ]
    },
    {
      "cell_type": "markdown",
      "metadata": {
        "id": "Hp26FM7UATmb"
      },
      "source": [
        "#### 24. Multiply a 5x3 matrix by a 3x2 matrix (real matrix product) (★☆☆) \n",
        "(**hint**: np.dot | @)"
      ]
    },
    {
      "cell_type": "code",
      "execution_count": null,
      "metadata": {
        "id": "E6oOwzbUATmb",
        "colab": {
          "base_uri": "https://localhost:8080/"
        },
        "outputId": "fb1a898b-5811-4971-b575-cfc71ca11d38"
      },
      "outputs": [
        {
          "output_type": "stream",
          "name": "stdout",
          "text": [
            "[[ 1  2  3]\n",
            " [ 4  5  6]\n",
            " [ 7  8  9]\n",
            " [10 11 12]\n",
            " [13 14 15]]\n",
            "[[1 2]\n",
            " [3 4]\n",
            " [5 6]]\n",
            "[[ 22  28]\n",
            " [ 49  64]\n",
            " [ 76 100]\n",
            " [103 136]\n",
            " [130 172]]\n"
          ]
        }
      ],
      "source": [
        "x1 = np.arange(1,16).reshape(5,3)\n",
        "x2 = np.arange(1,7).reshape(3,2)\n",
        "z = np.dot(x1,x2)\n",
        "print(x1, x2, z ,sep='\\n')"
      ]
    },
    {
      "cell_type": "markdown",
      "metadata": {
        "id": "NYhF4mFTATmb"
      },
      "source": [
        "#### 25. Given a 1D array, negate all elements which are between 3 and 8, in place. (★☆☆) \n",
        "(**hint**: >, <=)"
      ]
    },
    {
      "cell_type": "code",
      "execution_count": null,
      "metadata": {
        "id": "OAG5mR8WATmb",
        "colab": {
          "base_uri": "https://localhost:8080/"
        },
        "outputId": "3e7a0044-076b-4fc1-9f1c-d5e0077137f2"
      },
      "outputs": [
        {
          "output_type": "execute_result",
          "data": {
            "text/plain": [
              "array([7, 4, 6, 1, 7, 6, 2, 8, 5, 3, 5, 4, 6, 6, 9, 8, 3, 9, 5, 5])"
            ]
          },
          "metadata": {},
          "execution_count": 28
        }
      ],
      "source": [
        "x = np.random.randint(1,10,size=20)\n",
        "x"
      ]
    },
    {
      "cell_type": "code",
      "source": [
        "for i in range(x.size):\n",
        "    if (x[i]>3 and x[i]<8): #3 and 8 are excluded\n",
        "        x[i] = -(x[i])\n",
        "print(x)"
      ],
      "metadata": {
        "colab": {
          "base_uri": "https://localhost:8080/"
        },
        "id": "eHlEyXIh2tSt",
        "outputId": "73df72ce-2c75-4d54-b30b-2fa631fbf344"
      },
      "execution_count": null,
      "outputs": [
        {
          "output_type": "stream",
          "name": "stdout",
          "text": [
            "[-7 -4 -6  1 -7 -6  2  8 -5  3 -5 -4 -6 -6  9  8  3  9 -5 -5]\n"
          ]
        }
      ]
    },
    {
      "cell_type": "markdown",
      "metadata": {
        "id": "bvjbiptEATmb"
      },
      "source": [
        "#### 26. What is the output of the following script? (★☆☆) \n",
        "(**hint**: np.sum)"
      ]
    },
    {
      "cell_type": "markdown",
      "metadata": {
        "id": "HUaZPuawATmc"
      },
      "source": [
        "```python\n",
        "# Author: Jake VanderPlas\n",
        "\n",
        "print(sum(range(5),-1))\n",
        "from numpy import *\n",
        "print(sum(range(5),-1))\n",
        "```"
      ]
    },
    {
      "cell_type": "code",
      "execution_count": null,
      "metadata": {
        "id": "rT-DMUG_ATmc",
        "colab": {
          "base_uri": "https://localhost:8080/"
        },
        "outputId": "96d48a84-b517-43a5-d1bd-4cd86a32defa"
      },
      "outputs": [
        {
          "output_type": "stream",
          "name": "stdout",
          "text": [
            "9\n",
            "10\n"
          ]
        }
      ],
      "source": [
        "\n",
        "print(sum(range(5),-1))\n",
        "from numpy import *\n",
        "print(sum(range(5),-1))"
      ]
    },
    {
      "cell_type": "markdown",
      "metadata": {
        "id": "VmkoHTswATmc"
      },
      "source": [
        "#### 27. Consider an integer vector Z, which of these expressions are legal? (★☆☆)"
      ]
    },
    {
      "cell_type": "markdown",
      "metadata": {
        "id": "w4hwI7YKATmc"
      },
      "source": [
        "```python\n",
        "Z**Z\n",
        "2 << Z >> 2\n",
        "Z <- Z\n",
        "1j*Z\n",
        "Z/1/1\n",
        "Z<Z>Z\n",
        "```"
      ]
    },
    {
      "cell_type": "code",
      "execution_count": null,
      "metadata": {
        "id": "v6fDVgbrATmc"
      },
      "outputs": [],
      "source": [
        "z = np.array([1,2,3,4])"
      ]
    },
    {
      "cell_type": "code",
      "source": [
        "z**z"
      ],
      "metadata": {
        "colab": {
          "base_uri": "https://localhost:8080/"
        },
        "id": "1Jx4wtFq4iTB",
        "outputId": "061f47ff-5949-4d6c-993c-8bdeed556663"
      },
      "execution_count": null,
      "outputs": [
        {
          "output_type": "execute_result",
          "data": {
            "text/plain": [
              "array([  1,   4,  27, 256])"
            ]
          },
          "metadata": {},
          "execution_count": 35
        }
      ]
    },
    {
      "cell_type": "code",
      "source": [
        "2 << z >> 2"
      ],
      "metadata": {
        "colab": {
          "base_uri": "https://localhost:8080/"
        },
        "id": "f4jPx4Ns4qp2",
        "outputId": "30836fd5-18c3-48bc-c181-a4eb7f9675e6"
      },
      "execution_count": null,
      "outputs": [
        {
          "output_type": "execute_result",
          "data": {
            "text/plain": [
              "array([1, 2, 4, 8])"
            ]
          },
          "metadata": {},
          "execution_count": 36
        }
      ]
    },
    {
      "cell_type": "code",
      "source": [
        "z <- z"
      ],
      "metadata": {
        "colab": {
          "base_uri": "https://localhost:8080/"
        },
        "id": "j-BoN5J05Caz",
        "outputId": "0d68162b-3ab4-43f7-ece0-c8788a7b4790"
      },
      "execution_count": null,
      "outputs": [
        {
          "output_type": "execute_result",
          "data": {
            "text/plain": [
              "array([False, False, False, False])"
            ]
          },
          "metadata": {},
          "execution_count": 37
        }
      ]
    },
    {
      "cell_type": "code",
      "source": [
        "1j*z"
      ],
      "metadata": {
        "colab": {
          "base_uri": "https://localhost:8080/"
        },
        "id": "cXQI9xqs5I14",
        "outputId": "5d56fff8-35ed-4b12-863f-f6ee428663b9"
      },
      "execution_count": null,
      "outputs": [
        {
          "output_type": "execute_result",
          "data": {
            "text/plain": [
              "array([0.+1.j, 0.+2.j, 0.+3.j, 0.+4.j])"
            ]
          },
          "metadata": {},
          "execution_count": 38
        }
      ]
    },
    {
      "cell_type": "code",
      "source": [
        "z/1/1"
      ],
      "metadata": {
        "colab": {
          "base_uri": "https://localhost:8080/"
        },
        "id": "KfjrYgF85Mtm",
        "outputId": "b5744346-e5d7-4599-ff28-56940d8b6668"
      },
      "execution_count": null,
      "outputs": [
        {
          "output_type": "execute_result",
          "data": {
            "text/plain": [
              "array([1., 2., 3., 4.])"
            ]
          },
          "metadata": {},
          "execution_count": 39
        }
      ]
    },
    {
      "cell_type": "code",
      "source": [
        "z < z >z"
      ],
      "metadata": {
        "colab": {
          "base_uri": "https://localhost:8080/",
          "height": 165
        },
        "id": "S4TvF6lV5SHe",
        "outputId": "af680565-5fd8-403c-8286-a9808aab2ff7"
      },
      "execution_count": null,
      "outputs": [
        {
          "output_type": "error",
          "ename": "ValueError",
          "evalue": "ignored",
          "traceback": [
            "\u001b[0;31m---------------------------------------------------------------------------\u001b[0m",
            "\u001b[0;31mValueError\u001b[0m                                Traceback (most recent call last)",
            "\u001b[0;32m<ipython-input-40-9f2f38f16c11>\u001b[0m in \u001b[0;36m<module>\u001b[0;34m()\u001b[0m\n\u001b[0;32m----> 1\u001b[0;31m \u001b[0mz\u001b[0m \u001b[0;34m<\u001b[0m \u001b[0mz\u001b[0m \u001b[0;34m>\u001b[0m\u001b[0mz\u001b[0m\u001b[0;34m\u001b[0m\u001b[0;34m\u001b[0m\u001b[0m\n\u001b[0m",
            "\u001b[0;31mValueError\u001b[0m: The truth value of an array with more than one element is ambiguous. Use a.any() or a.all()"
          ]
        }
      ]
    },
    {
      "cell_type": "markdown",
      "metadata": {
        "id": "_hUjn77tATmc"
      },
      "source": [
        "#### 28. What are the result of the following expressions?"
      ]
    },
    {
      "cell_type": "markdown",
      "metadata": {
        "id": "KsbJE_w2ATmc"
      },
      "source": [
        "```python\n",
        "np.array(0) / np.array(0)\n",
        "np.array(0) // np.array(0)\n",
        "np.array([np.nan]).astype(int).astype(float)\n",
        "```"
      ]
    },
    {
      "cell_type": "code",
      "execution_count": null,
      "metadata": {
        "id": "UzLTRSXrATmd",
        "colab": {
          "base_uri": "https://localhost:8080/"
        },
        "outputId": "3556d289-faaf-4ff5-8605-ae30851df0fe"
      },
      "outputs": [
        {
          "output_type": "stream",
          "name": "stderr",
          "text": [
            "/usr/local/lib/python3.7/dist-packages/ipykernel_launcher.py:1: RuntimeWarning: invalid value encountered in true_divide\n",
            "  \"\"\"Entry point for launching an IPython kernel.\n"
          ]
        },
        {
          "output_type": "execute_result",
          "data": {
            "text/plain": [
              "nan"
            ]
          },
          "metadata": {},
          "execution_count": 41
        }
      ],
      "source": [
        "np.array(0) / np.array(0)"
      ]
    },
    {
      "cell_type": "code",
      "source": [
        "np.array(0) // np.array(0)"
      ],
      "metadata": {
        "id": "IrppGYEu6NOU",
        "outputId": "34a34df1-c924-443b-e0d1-537cd96f3e7e",
        "colab": {
          "base_uri": "https://localhost:8080/"
        }
      },
      "execution_count": null,
      "outputs": [
        {
          "output_type": "stream",
          "name": "stderr",
          "text": [
            "/usr/local/lib/python3.7/dist-packages/ipykernel_launcher.py:1: RuntimeWarning: divide by zero encountered in floor_divide\n",
            "  \"\"\"Entry point for launching an IPython kernel.\n"
          ]
        },
        {
          "output_type": "execute_result",
          "data": {
            "text/plain": [
              "0"
            ]
          },
          "metadata": {},
          "execution_count": 42
        }
      ]
    },
    {
      "cell_type": "code",
      "source": [
        "np.array([np.nan]).astype(int).astype(float)"
      ],
      "metadata": {
        "id": "fFbROLoj6QxV",
        "outputId": "b02947e5-ea8f-4ef4-9eb0-b37b0b21ee77",
        "colab": {
          "base_uri": "https://localhost:8080/"
        }
      },
      "execution_count": null,
      "outputs": [
        {
          "output_type": "execute_result",
          "data": {
            "text/plain": [
              "array([-9.22337204e+18])"
            ]
          },
          "metadata": {},
          "execution_count": 43
        }
      ]
    },
    {
      "cell_type": "markdown",
      "metadata": {
        "id": "g7EEnGe8ATmd"
      },
      "source": [
        "#### 29. How to round away from zero a float array ? (★☆☆) \n",
        "(**hint**: np.uniform, np.copysign, np.ceil, np.abs)"
      ]
    },
    {
      "cell_type": "code",
      "execution_count": null,
      "metadata": {
        "id": "BVNPeP3wATmd"
      },
      "outputs": [],
      "source": [
        "x = np.random.rand(10)"
      ]
    },
    {
      "cell_type": "code",
      "source": [
        "np.ceil(x)"
      ],
      "metadata": {
        "colab": {
          "base_uri": "https://localhost:8080/"
        },
        "id": "OFA59nHhSePw",
        "outputId": "7abb9a08-2bee-4ae1-ee2f-6080394a8735"
      },
      "execution_count": null,
      "outputs": [
        {
          "output_type": "execute_result",
          "data": {
            "text/plain": [
              "array([1., 1., 1., 1., 1., 1., 1., 1., 1., 1.])"
            ]
          },
          "metadata": {},
          "execution_count": 6
        }
      ]
    },
    {
      "cell_type": "markdown",
      "metadata": {
        "id": "46SWdRf1ATmd"
      },
      "source": [
        "#### 30. How to find common values between two arrays? (★☆☆) \n",
        "(**hint**: np.intersect1d)"
      ]
    },
    {
      "cell_type": "code",
      "execution_count": null,
      "metadata": {
        "id": "FJ9zp5JJATmd",
        "colab": {
          "base_uri": "https://localhost:8080/"
        },
        "outputId": "358f32dd-70e2-4e1f-de67-d5aefa4c0ada"
      },
      "outputs": [
        {
          "output_type": "execute_result",
          "data": {
            "text/plain": [
              "array([4, 5])"
            ]
          },
          "metadata": {},
          "execution_count": 8
        }
      ],
      "source": [
        "a = np.array([1,2,3,4,5])\n",
        "b = np.array([4,5,6,7,8])\n",
        "np.intersect1d(a,b)"
      ]
    },
    {
      "cell_type": "markdown",
      "metadata": {
        "id": "U7_5KmlDATmd"
      },
      "source": [
        "#### 31. How to ignore all numpy warnings (not recommended)? (★☆☆) \n",
        "(**hint**: np.seterr, np.errstate)"
      ]
    },
    {
      "cell_type": "code",
      "execution_count": 5,
      "metadata": {
        "id": "hb-QN7QEATmd"
      },
      "outputs": [],
      "source": [
        "old_setting= np.seterr(all=\"ignore\")\n",
        "Z = np.ones(1) / 0"
      ]
    },
    {
      "cell_type": "code",
      "source": [
        "_ = np.seterr(**old_setting)"
      ],
      "metadata": {
        "id": "QiDykuHwVNCm"
      },
      "execution_count": 6,
      "outputs": []
    },
    {
      "cell_type": "code",
      "source": [
        "with np.errstate(all=\"ignore\"):\n",
        "    np.arange(3) / 0"
      ],
      "metadata": {
        "id": "_VhC4V10VWeR"
      },
      "execution_count": 7,
      "outputs": []
    },
    {
      "cell_type": "markdown",
      "metadata": {
        "id": "aiJ9d2qeATmd"
      },
      "source": [
        "#### 32. Is the following expressions true? (★☆☆) \n",
        "(**hint**: imaginary number)"
      ]
    },
    {
      "cell_type": "markdown",
      "metadata": {
        "id": "HRXIgwIHATmd"
      },
      "source": [
        "```python\n",
        "np.sqrt(-1) == np.emath.sqrt(-1)\n",
        "```"
      ]
    },
    {
      "cell_type": "code",
      "execution_count": null,
      "metadata": {
        "id": "111eY7zRATme",
        "colab": {
          "base_uri": "https://localhost:8080/"
        },
        "outputId": "817f8ca5-411d-42c4-dc9e-bc854edeae7d"
      },
      "outputs": [
        {
          "output_type": "stream",
          "name": "stderr",
          "text": [
            "/usr/local/lib/python3.7/dist-packages/ipykernel_launcher.py:1: RuntimeWarning: invalid value encountered in sqrt\n",
            "  \"\"\"Entry point for launching an IPython kernel.\n"
          ]
        },
        {
          "output_type": "execute_result",
          "data": {
            "text/plain": [
              "False"
            ]
          },
          "metadata": {},
          "execution_count": 12
        }
      ],
      "source": [
        "np.sqrt(-1) == np.emath.sqrt(-1)"
      ]
    },
    {
      "cell_type": "markdown",
      "metadata": {
        "id": "SJ2fLU84ATme"
      },
      "source": [
        "#### 33. How to get the dates of yesterday, today and tomorrow? (★☆☆) \n",
        "(**hint**: np.datetime64, np.timedelta64)"
      ]
    },
    {
      "cell_type": "code",
      "execution_count": null,
      "metadata": {
        "id": "QHcoWpnKATme",
        "colab": {
          "base_uri": "https://localhost:8080/"
        },
        "outputId": "cd02fd58-c3b7-49cd-de4f-974e7c97998b"
      },
      "outputs": [
        {
          "output_type": "stream",
          "name": "stdout",
          "text": [
            "2022-07-07 2022-07-08 2022-07-09\n"
          ]
        }
      ],
      "source": [
        "today = np.datetime64('today','D')\n",
        "yesterday = np.datetime64('today', 'D') - np.timedelta64(1, 'D')\n",
        "tomorrow =np.datetime64('today', 'D') + np.timedelta64(1, 'D')\n",
        "print(yesterday, today, tomorrow)"
      ]
    },
    {
      "cell_type": "markdown",
      "metadata": {
        "id": "tcDpdVqpATme"
      },
      "source": [
        "#### 34. How to get all the dates corresponding to the month of July 2016? (★★☆) \n",
        "(**hint**: np.arange(dtype=datetime64\\['D'\\]))"
      ]
    },
    {
      "cell_type": "code",
      "execution_count": null,
      "metadata": {
        "id": "o20f1xdeATme",
        "colab": {
          "base_uri": "https://localhost:8080/"
        },
        "outputId": "e6f59f4e-65e0-4642-a0d7-16e791ef1b38"
      },
      "outputs": [
        {
          "output_type": "execute_result",
          "data": {
            "text/plain": [
              "array(['2016-07-01', '2016-07-02', '2016-07-03', '2016-07-04',\n",
              "       '2016-07-05', '2016-07-06', '2016-07-07', '2016-07-08',\n",
              "       '2016-07-09', '2016-07-10', '2016-07-11', '2016-07-12',\n",
              "       '2016-07-13', '2016-07-14', '2016-07-15', '2016-07-16',\n",
              "       '2016-07-17', '2016-07-18', '2016-07-19', '2016-07-20',\n",
              "       '2016-07-21', '2016-07-22', '2016-07-23', '2016-07-24',\n",
              "       '2016-07-25', '2016-07-26', '2016-07-27', '2016-07-28',\n",
              "       '2016-07-29', '2016-07-30', '2016-07-31'], dtype='datetime64[D]')"
            ]
          },
          "metadata": {},
          "execution_count": 8
        }
      ],
      "source": [
        "np.arange('2016-07','2016-08', dtype=\"datetime64[D]\")"
      ]
    },
    {
      "cell_type": "markdown",
      "metadata": {
        "id": "Et9NXdVhATme"
      },
      "source": [
        "#### 35. How to compute ((A+B)\\*(-A/2)) in place (without copy)? (★★☆) \n",
        "(**hint**: np.add(out=), np.negative(out=), np.multiply(out=), np.divide(out=))"
      ]
    },
    {
      "cell_type": "code",
      "source": [
        "A = np.ones(5)*2\n",
        "B = np.ones(5)\n",
        "np.add(A, B, out=B)\n",
        "np.negative(A, out=A)\n",
        "np.divide(A,2, out=A)\n",
        "np.multiply(A,B, out=A)\n",
        "print(A)"
      ],
      "metadata": {
        "colab": {
          "base_uri": "https://localhost:8080/"
        },
        "id": "AQcp30U0GbJN",
        "outputId": "3b682dc1-208a-4aa1-8d6e-e7f96b3c48d4"
      },
      "execution_count": null,
      "outputs": [
        {
          "output_type": "stream",
          "name": "stdout",
          "text": [
            "[-3. -3. -3. -3. -3.]\n"
          ]
        }
      ]
    },
    {
      "cell_type": "markdown",
      "metadata": {
        "id": "l-kfYDbrATme"
      },
      "source": [
        "#### 36. Extract the integer part of a random array using 5 different methods (★★☆) \n",
        "(**hint**: %, np.floor, np.ceil, astype, np.trunc)"
      ]
    },
    {
      "cell_type": "code",
      "execution_count": null,
      "metadata": {
        "id": "1N7dzcq_ATmf"
      },
      "outputs": [],
      "source": [
        "x = np.random.rand(5)"
      ]
    },
    {
      "cell_type": "code",
      "source": [
        "x"
      ],
      "metadata": {
        "colab": {
          "base_uri": "https://localhost:8080/"
        },
        "id": "S3dCRAW2HfOh",
        "outputId": "081f3fd9-7df5-42b4-af8b-b188ed31e9f1"
      },
      "execution_count": null,
      "outputs": [
        {
          "output_type": "execute_result",
          "data": {
            "text/plain": [
              "array([0.71637844, 0.79848465, 0.4828398 , 0.90240988, 0.3325964 ])"
            ]
          },
          "metadata": {},
          "execution_count": 15
        }
      ]
    },
    {
      "cell_type": "code",
      "source": [
        "x - (x%1)"
      ],
      "metadata": {
        "colab": {
          "base_uri": "https://localhost:8080/"
        },
        "id": "hlDpJHjsIA40",
        "outputId": "90596afe-aeda-4320-b117-506ee2a9e0ab"
      },
      "execution_count": null,
      "outputs": [
        {
          "output_type": "execute_result",
          "data": {
            "text/plain": [
              "array([0., 0., 0., 0., 0.])"
            ]
          },
          "metadata": {},
          "execution_count": 17
        }
      ]
    },
    {
      "cell_type": "code",
      "source": [
        "np.ceil(x)"
      ],
      "metadata": {
        "colab": {
          "base_uri": "https://localhost:8080/"
        },
        "id": "h1-BdJ6sHAEz",
        "outputId": "b2a7b60a-841d-45c6-cfbb-1c6578aeb7c9"
      },
      "execution_count": null,
      "outputs": [
        {
          "output_type": "execute_result",
          "data": {
            "text/plain": [
              "array([1., 1., 1., 1., 1.])"
            ]
          },
          "metadata": {},
          "execution_count": 11
        }
      ]
    },
    {
      "cell_type": "code",
      "source": [
        "np.floor(x)"
      ],
      "metadata": {
        "colab": {
          "base_uri": "https://localhost:8080/"
        },
        "id": "B3Ye3zQjHDoS",
        "outputId": "874996a4-ad93-430d-fbe7-449e60a3617a"
      },
      "execution_count": null,
      "outputs": [
        {
          "output_type": "execute_result",
          "data": {
            "text/plain": [
              "array([0., 0., 0., 0., 0.])"
            ]
          },
          "metadata": {},
          "execution_count": 12
        }
      ]
    },
    {
      "cell_type": "code",
      "source": [
        "x.astype(int)"
      ],
      "metadata": {
        "colab": {
          "base_uri": "https://localhost:8080/"
        },
        "id": "chZRpqMQHGGI",
        "outputId": "f03bc1f5-66ba-451d-8054-15e56f1f46a1"
      },
      "execution_count": null,
      "outputs": [
        {
          "output_type": "execute_result",
          "data": {
            "text/plain": [
              "array([0, 0, 0, 0, 0])"
            ]
          },
          "metadata": {},
          "execution_count": 13
        }
      ]
    },
    {
      "cell_type": "code",
      "source": [
        "np.trunc(x)"
      ],
      "metadata": {
        "colab": {
          "base_uri": "https://localhost:8080/"
        },
        "id": "6-pB6CcyHKN4",
        "outputId": "e6735caf-e287-4ec6-e260-6971d45897fc"
      },
      "execution_count": null,
      "outputs": [
        {
          "output_type": "execute_result",
          "data": {
            "text/plain": [
              "array([0., 0., 0., 0., 0.])"
            ]
          },
          "metadata": {},
          "execution_count": 14
        }
      ]
    },
    {
      "cell_type": "markdown",
      "metadata": {
        "id": "YcxLZFfmATmf"
      },
      "source": [
        "#### 37. Create a 5x5 matrix with row values ranging from 0 to 4 (★★☆) \n",
        "(**hint**: np.arange)"
      ]
    },
    {
      "cell_type": "code",
      "execution_count": null,
      "metadata": {
        "id": "fvQrFwwwATmf",
        "colab": {
          "base_uri": "https://localhost:8080/"
        },
        "outputId": "cbd3b03b-62fa-4058-f072-83bc04ac52a6"
      },
      "outputs": [
        {
          "output_type": "execute_result",
          "data": {
            "text/plain": [
              "array([[0, 1, 2, 3, 4],\n",
              "       [0, 1, 2, 3, 4],\n",
              "       [0, 1, 2, 3, 4],\n",
              "       [0, 1, 2, 3, 4],\n",
              "       [0, 1, 2, 3, 4]])"
            ]
          },
          "metadata": {},
          "execution_count": 21
        }
      ],
      "source": [
        "x = np.arange(5)\n",
        "np.tile(x,(5,1))"
      ]
    },
    {
      "cell_type": "markdown",
      "metadata": {
        "id": "KprRmVitATmf"
      },
      "source": [
        "#### 38. Consider a generator function that generates 10 integers and use it to build an array (★☆☆) \n",
        "(**hint**: np.fromiter)"
      ]
    },
    {
      "cell_type": "code",
      "execution_count": null,
      "metadata": {
        "id": "iyt47ILwATmf",
        "colab": {
          "base_uri": "https://localhost:8080/"
        },
        "outputId": "87af4d0c-3d68-4c91-b913-07d33a70b518"
      },
      "outputs": [
        {
          "output_type": "stream",
          "name": "stdout",
          "text": [
            "[0. 1. 2. 3. 4. 5. 6. 7. 8. 9.]\n"
          ]
        }
      ],
      "source": [
        "def generate():\n",
        "    for x in range(10):\n",
        "        yield x\n",
        "x = np.fromiter(generate(),dtype=float)\n",
        "print(x)"
      ]
    },
    {
      "cell_type": "markdown",
      "metadata": {
        "id": "XYh7LiVKATmf"
      },
      "source": [
        "#### 39. Create a vector of size 10 with values ranging from 0 to 1, both excluded (★★☆) \n",
        "(**hint**: np.linspace)"
      ]
    },
    {
      "cell_type": "code",
      "execution_count": null,
      "metadata": {
        "id": "x9WBUhhwATmf",
        "colab": {
          "base_uri": "https://localhost:8080/"
        },
        "outputId": "e2755c17-fe08-4788-b2be-8e799954abad"
      },
      "outputs": [
        {
          "output_type": "execute_result",
          "data": {
            "text/plain": [
              "array([0.09090909, 0.18181818, 0.27272727, 0.36363636, 0.45454545,\n",
              "       0.54545455, 0.63636364, 0.72727273, 0.81818182, 0.90909091])"
            ]
          },
          "metadata": {},
          "execution_count": 26
        }
      ],
      "source": [
        "np.linspace(0,1,11,endpoint=False)[1:]"
      ]
    },
    {
      "cell_type": "markdown",
      "metadata": {
        "id": "KXKtU0_LATmg"
      },
      "source": [
        "#### 40. Create a random vector of size 10 and sort it (★★☆) \n",
        "(**hint**: sort)"
      ]
    },
    {
      "cell_type": "code",
      "execution_count": null,
      "metadata": {
        "id": "DoSUyvN2ATmg",
        "colab": {
          "base_uri": "https://localhost:8080/"
        },
        "outputId": "e784d738-dc8b-42f5-ba90-b7be8535cd71"
      },
      "outputs": [
        {
          "output_type": "stream",
          "name": "stdout",
          "text": [
            "[0.73427546 0.80061205 0.35924152 0.65410128 0.86831047 0.29030915\n",
            " 0.1333098  0.41714531 0.9100809  0.6092167 ]\n"
          ]
        },
        {
          "output_type": "execute_result",
          "data": {
            "text/plain": [
              "array([0.1333098 , 0.29030915, 0.35924152, 0.41714531, 0.6092167 ,\n",
              "       0.65410128, 0.73427546, 0.80061205, 0.86831047, 0.9100809 ])"
            ]
          },
          "metadata": {},
          "execution_count": 27
        }
      ],
      "source": [
        "x  = np.random.rand(10)\n",
        "print(x)\n",
        "np.sort(x)"
      ]
    },
    {
      "cell_type": "markdown",
      "metadata": {
        "id": "HmcH-deaATmg"
      },
      "source": [
        "#### 41. How to sum a small array faster than np.sum? (★★☆) \n",
        "(**hint**: np.add.reduce)"
      ]
    },
    {
      "cell_type": "code",
      "execution_count": null,
      "metadata": {
        "id": "r_GJjvVAATmg",
        "colab": {
          "base_uri": "https://localhost:8080/"
        },
        "outputId": "b137e72d-4bdb-4291-f165-b12b48cdef5f"
      },
      "outputs": [
        {
          "output_type": "execute_result",
          "data": {
            "text/plain": [
              "15"
            ]
          },
          "metadata": {},
          "execution_count": 29
        }
      ],
      "source": [
        "x = np.array([1,2,3,4,5])\n",
        "np.add.reduce(x)"
      ]
    },
    {
      "cell_type": "markdown",
      "metadata": {
        "id": "4m11ZJljATmg"
      },
      "source": [
        "#### 42. Consider two random array A and B, check if they are equal (★★☆) \n",
        "(**hint**: np.allclose, np.array\\_equal)"
      ]
    },
    {
      "cell_type": "code",
      "execution_count": null,
      "metadata": {
        "id": "Hgw_LmlfATmg",
        "colab": {
          "base_uri": "https://localhost:8080/"
        },
        "outputId": "a2529103-402e-446d-a99c-729043bc1834"
      },
      "outputs": [
        {
          "output_type": "execute_result",
          "data": {
            "text/plain": [
              "False"
            ]
          },
          "metadata": {},
          "execution_count": 32
        }
      ],
      "source": [
        "A = np.random.randint(0,3,5)\n",
        "B = np.random.randint(0,3,5)\n",
        "np.allclose(A,B)"
      ]
    },
    {
      "cell_type": "code",
      "source": [
        "np.array_equal(A,B)"
      ],
      "metadata": {
        "colab": {
          "base_uri": "https://localhost:8080/"
        },
        "id": "diBLX3vFkit_",
        "outputId": "7f63bc75-4690-4646-f63f-843b043a23e2"
      },
      "execution_count": null,
      "outputs": [
        {
          "output_type": "execute_result",
          "data": {
            "text/plain": [
              "False"
            ]
          },
          "metadata": {},
          "execution_count": 33
        }
      ]
    },
    {
      "cell_type": "markdown",
      "metadata": {
        "id": "Yp-6_g0RATmg"
      },
      "source": [
        "#### 43. Make an array immutable (read-only) (★★☆) \n",
        "(**hint**: flags.writeable)"
      ]
    },
    {
      "cell_type": "code",
      "execution_count": null,
      "metadata": {
        "id": "yfpnibQbATmg"
      },
      "outputs": [],
      "source": [
        "x = np.zeros(5)\n",
        "x.flags.writeable = False"
      ]
    },
    {
      "cell_type": "code",
      "source": [
        "x[1] = 1"
      ],
      "metadata": {
        "colab": {
          "base_uri": "https://localhost:8080/",
          "height": 165
        },
        "id": "G6DHzqQdk-dV",
        "outputId": "5c53a462-9ad1-4d35-d593-d5d7c64bee44"
      },
      "execution_count": null,
      "outputs": [
        {
          "output_type": "error",
          "ename": "ValueError",
          "evalue": "ignored",
          "traceback": [
            "\u001b[0;31m---------------------------------------------------------------------------\u001b[0m",
            "\u001b[0;31mValueError\u001b[0m                                Traceback (most recent call last)",
            "\u001b[0;32m<ipython-input-35-dc3992cfa332>\u001b[0m in \u001b[0;36m<module>\u001b[0;34m()\u001b[0m\n\u001b[0;32m----> 1\u001b[0;31m \u001b[0mx\u001b[0m\u001b[0;34m[\u001b[0m\u001b[0;36m1\u001b[0m\u001b[0;34m]\u001b[0m \u001b[0;34m=\u001b[0m \u001b[0;36m1\u001b[0m\u001b[0;34m\u001b[0m\u001b[0;34m\u001b[0m\u001b[0m\n\u001b[0m",
            "\u001b[0;31mValueError\u001b[0m: assignment destination is read-only"
          ]
        }
      ]
    },
    {
      "cell_type": "markdown",
      "metadata": {
        "id": "qW1q5wjSATmh"
      },
      "source": [
        "#### 44. Consider a random 10x2 matrix representing cartesian coordinates, convert them to polar coordinates (★★☆) \n",
        "(**hint**: np.sqrt, np.arctan2)"
      ]
    },
    {
      "cell_type": "code",
      "execution_count": null,
      "metadata": {
        "id": "jc7c-b4aATmh",
        "colab": {
          "base_uri": "https://localhost:8080/"
        },
        "outputId": "dd4fbabe-0f77-4fab-cba6-fd445eb69a93"
      },
      "outputs": [
        {
          "output_type": "stream",
          "name": "stdout",
          "text": [
            "[0.9213754  1.09126535 0.82900951 0.97677312 0.91559928 0.70571503\n",
            " 0.44277028 0.93334075 0.52954584 1.07601116]\n",
            "[1.04810284 0.56701885 1.54064364 0.9447853  0.45406741 1.16833729\n",
            " 0.8086651  1.53676343 0.48330103 0.41909488]\n"
          ]
        }
      ],
      "source": [
        "a = np.random.random((10,2))\n",
        "X,Y = a[:,0], a[:,1] # getting x and y coordinates seperately\n",
        "radius = np.sqrt(X**2+Y**2)\n",
        "theta = np.arctan2(Y,X)\n",
        "print(radius)\n",
        "print(theta)"
      ]
    },
    {
      "cell_type": "markdown",
      "metadata": {
        "id": "YRs0_XdIATmh"
      },
      "source": [
        "#### 45. Create random vector of size 10 and replace the maximum value by 0 (★★☆) \n",
        "(**hint**: argmax)"
      ]
    },
    {
      "cell_type": "code",
      "execution_count": null,
      "metadata": {
        "id": "L5qQZTR2ATmh",
        "colab": {
          "base_uri": "https://localhost:8080/"
        },
        "outputId": "e7f58356-3be8-4252-dddc-f946acffddea"
      },
      "outputs": [
        {
          "output_type": "stream",
          "name": "stdout",
          "text": [
            "[0.78942231 0.         0.38622893 0.30170481 0.36921378 0.9338586\n",
            " 0.09607242 0.70789572 0.11889073 0.56504123]\n"
          ]
        }
      ],
      "source": [
        "x = np.random.random(10)\n",
        "x[x.argmax()] = 0\n",
        "print(x)"
      ]
    },
    {
      "cell_type": "markdown",
      "metadata": {
        "id": "YrAjC_iUATmh"
      },
      "source": [
        "#### 46. Create a structured array with `x` and `y` coordinates covering the \\[0,1\\]x\\[0,1\\] area (★★☆) \n",
        "(**hint**: np.meshgrid)"
      ]
    },
    {
      "cell_type": "code",
      "source": [
        "z = np.zeros((5,5), dtype=[('x', float), ('y', float)])\n",
        "a = np.linspace(0,1,5)\n",
        "b = np.linspace(0,1,5)\n",
        "z['x'], z['y']= np.meshgrid(a,b)\n"
      ],
      "metadata": {
        "id": "pNwaWXd8omXA"
      },
      "execution_count": null,
      "outputs": []
    },
    {
      "cell_type": "code",
      "source": [
        "z"
      ],
      "metadata": {
        "colab": {
          "base_uri": "https://localhost:8080/"
        },
        "id": "l00ptHFztQbj",
        "outputId": "58f8e159-e128-4996-b506-0dc6567600a5"
      },
      "execution_count": null,
      "outputs": [
        {
          "output_type": "execute_result",
          "data": {
            "text/plain": [
              "array([[(0.  , 0.  ), (0.25, 0.  ), (0.5 , 0.  ), (0.75, 0.  ),\n",
              "        (1.  , 0.  )],\n",
              "       [(0.  , 0.25), (0.25, 0.25), (0.5 , 0.25), (0.75, 0.25),\n",
              "        (1.  , 0.25)],\n",
              "       [(0.  , 0.5 ), (0.25, 0.5 ), (0.5 , 0.5 ), (0.75, 0.5 ),\n",
              "        (1.  , 0.5 )],\n",
              "       [(0.  , 0.75), (0.25, 0.75), (0.5 , 0.75), (0.75, 0.75),\n",
              "        (1.  , 0.75)],\n",
              "       [(0.  , 1.  ), (0.25, 1.  ), (0.5 , 1.  ), (0.75, 1.  ),\n",
              "        (1.  , 1.  )]], dtype=[('x', '<f8'), ('y', '<f8')])"
            ]
          },
          "metadata": {},
          "execution_count": 16
        }
      ]
    },
    {
      "cell_type": "markdown",
      "metadata": {
        "id": "CAjdzZ3pATmh"
      },
      "source": [
        "####  47. Given two arrays, X and Y, construct the Cauchy matrix C (Cij =1/(xi - yj)) \n",
        "(**hint**: np.subtract.outer)"
      ]
    },
    {
      "cell_type": "code",
      "execution_count": null,
      "metadata": {
        "id": "NaJWnQR5ATmh",
        "colab": {
          "base_uri": "https://localhost:8080/"
        },
        "outputId": "080696c9-df53-4325-d949-d65a4a61d70b"
      },
      "outputs": [
        {
          "output_type": "stream",
          "name": "stderr",
          "text": [
            "/usr/local/lib/python3.7/dist-packages/ipykernel_launcher.py:3: RuntimeWarning: divide by zero encountered in true_divide\n",
            "  This is separate from the ipykernel package so we can avoid doing imports until\n"
          ]
        },
        {
          "output_type": "execute_result",
          "data": {
            "text/plain": [
              "array([[-1.        , -1.        , -1.        , -1.        , -1.        ],\n",
              "       [        inf,         inf,         inf,         inf,         inf],\n",
              "       [ 1.        ,  1.        ,  1.        ,  1.        ,  1.        ],\n",
              "       [ 0.5       ,  0.5       ,  0.5       ,  0.5       ,  0.5       ],\n",
              "       [ 0.33333333,  0.33333333,  0.33333333,  0.33333333,  0.33333333]])"
            ]
          },
          "metadata": {},
          "execution_count": 18
        }
      ],
      "source": [
        "X = np.arange(5)\n",
        "Y = np.ones(5)\n",
        "C = 1.0 / np.subtract.outer(X, Y)\n",
        "C"
      ]
    },
    {
      "cell_type": "markdown",
      "metadata": {
        "id": "6SwtoAmIATmi"
      },
      "source": [
        "#### 48. Print the minimum and maximum representable value for each numpy scalar type (★★☆) \n",
        "(**hint**: np.iinfo, np.finfo, eps)"
      ]
    },
    {
      "cell_type": "code",
      "source": [
        "for dtype in [np.int8, np.int32, np.int64]:\n",
        "   print(np.iinfo(dtype).min)\n",
        "   print(np.iinfo(dtype).max)\n",
        "for dtype in [np.float32, np.float64]:\n",
        "   print(np.finfo(dtype).min)\n",
        "   print(np.finfo(dtype).max)\n",
        "   print(np.finfo(dtype).eps)\n",
        "   "
      ],
      "metadata": {
        "colab": {
          "base_uri": "https://localhost:8080/"
        },
        "id": "H2kDbBXQxDm0",
        "outputId": "a0583961-aa18-435c-9728-1887b1bf8df4"
      },
      "execution_count": null,
      "outputs": [
        {
          "output_type": "stream",
          "name": "stdout",
          "text": [
            "-128\n",
            "127\n",
            "-2147483648\n",
            "2147483647\n",
            "-9223372036854775808\n",
            "9223372036854775807\n",
            "-3.4028235e+38\n",
            "3.4028235e+38\n",
            "1.1920929e-07\n",
            "-1.7976931348623157e+308\n",
            "1.7976931348623157e+308\n",
            "2.220446049250313e-16\n"
          ]
        }
      ]
    },
    {
      "cell_type": "markdown",
      "metadata": {
        "id": "cNBNL9z5ATmi"
      },
      "source": [
        "#### 49. How to print all the values of an array? (★★☆) \n",
        "(**hint**: np.set\\_printoptions)"
      ]
    },
    {
      "cell_type": "code",
      "execution_count": null,
      "metadata": {
        "id": "SY_S9bI4ATmi",
        "colab": {
          "base_uri": "https://localhost:8080/"
        },
        "outputId": "981bba82-15a0-42b8-b90e-3d3c12641a7f"
      },
      "outputs": [
        {
          "output_type": "stream",
          "name": "stdout",
          "text": [
            "[[0. 0. 0. 0. 0. 0. 0. 0. 0. 0.]\n",
            " [0. 0. 0. 0. 0. 0. 0. 0. 0. 0.]\n",
            " [0. 0. 0. 0. 0. 0. 0. 0. 0. 0.]\n",
            " [0. 0. 0. 0. 0. 0. 0. 0. 0. 0.]\n",
            " [0. 0. 0. 0. 0. 0. 0. 0. 0. 0.]\n",
            " [0. 0. 0. 0. 0. 0. 0. 0. 0. 0.]\n",
            " [0. 0. 0. 0. 0. 0. 0. 0. 0. 0.]\n",
            " [0. 0. 0. 0. 0. 0. 0. 0. 0. 0.]\n",
            " [0. 0. 0. 0. 0. 0. 0. 0. 0. 0.]\n",
            " [0. 0. 0. 0. 0. 0. 0. 0. 0. 0.]]\n"
          ]
        }
      ],
      "source": [
        "np.set_printoptions(threshold=float(\"inf\"))\n",
        "X = np.zeros((10,10))\n",
        "print(X)"
      ]
    },
    {
      "cell_type": "markdown",
      "metadata": {
        "id": "5GhsKiY5ATmi"
      },
      "source": [
        "#### 50. How to find the closest value (to a given scalar) in a vector? (★★☆) \n",
        "(**hint**: argmin)"
      ]
    },
    {
      "cell_type": "code",
      "source": [
        "Z = np.arange(100)\n",
        "v = np.random.uniform(0,100)\n",
        "index = (np.abs(Z-v)).argmin()\n",
        "print(v)\n",
        "print(Z[index])"
      ],
      "metadata": {
        "colab": {
          "base_uri": "https://localhost:8080/"
        },
        "id": "UGGZi4nQf6ko",
        "outputId": "b1242d79-30a9-4f90-88c2-8f7a35cbc146"
      },
      "execution_count": 11,
      "outputs": [
        {
          "output_type": "stream",
          "name": "stdout",
          "text": [
            "53.57787351354403\n",
            "54\n"
          ]
        }
      ]
    },
    {
      "cell_type": "markdown",
      "metadata": {
        "id": "VF2ZXoY4ATmi"
      },
      "source": [
        "#### 51. Create a structured array representing a position (x,y) and a color (r,g,b) (★★☆) \n",
        "(**hint**: dtype)"
      ]
    },
    {
      "cell_type": "code",
      "execution_count": null,
      "metadata": {
        "id": "cYgZJhajATmi",
        "colab": {
          "base_uri": "https://localhost:8080/"
        },
        "outputId": "8ece0064-7abf-4507-f31d-e0d4b2de8d0b"
      },
      "outputs": [
        {
          "output_type": "execute_result",
          "data": {
            "text/plain": [
              "array([],\n",
              "      dtype=[('position', [('x', '<i4'), ('y', '<i4')]), ('color', [('r', '<i4'), ('g', '<i4'), ('b', '<i4')])])"
            ]
          },
          "metadata": {},
          "execution_count": 12
        }
      ],
      "source": [
        "np.array([], dtype=[('position',[('x',np.int32), ('y',np.int32)]),\n",
        "                     ('color', [('r', np.int32), ('g', np.int32),('b', np.int32)])])"
      ]
    },
    {
      "cell_type": "markdown",
      "metadata": {
        "id": "g0UYATKHATmi"
      },
      "source": [
        "#### 52. Consider a random vector with shape (100,2) representing coordinates, find point by point distances (★★☆) \n",
        "(**hint**: np.atleast\\_2d, T, np.sqrt)"
      ]
    },
    {
      "cell_type": "code",
      "execution_count": 12,
      "metadata": {
        "id": "uLwG3idNATmj",
        "colab": {
          "base_uri": "https://localhost:8080/"
        },
        "outputId": "2ed12762-a5cb-44ea-8fb1-e42c79cfbfc1"
      },
      "outputs": [
        {
          "output_type": "stream",
          "name": "stdout",
          "text": [
            "[[0.         0.24184167 0.34687801 ... 0.58795249 0.21363532 0.37206247]\n",
            " [0.24184167 0.         0.55602927 ... 0.38249515 0.09241779 0.46175357]\n",
            " [0.34687801 0.55602927 0.         ... 0.80319484 0.48686972 0.63437006]\n",
            " ...\n",
            " [0.58795249 0.38249515 0.80319484 ... 0.         0.37466527 0.83889561]\n",
            " [0.21363532 0.09241779 0.48686972 ... 0.37466527 0.         0.50747216]\n",
            " [0.37206247 0.46175357 0.63437006 ... 0.83889561 0.50747216 0.        ]]\n"
          ]
        }
      ],
      "source": [
        "Z = np.random.random((100,2))\n",
        "X,Y = np.atleast_2d(Z[:,0], Z[:,1])\n",
        "D = np.sqrt( (X-X.T)**2 + (Y-Y.T)**2)\n",
        "print(D)"
      ]
    },
    {
      "cell_type": "markdown",
      "metadata": {
        "id": "tibC6GSdATmj"
      },
      "source": [
        "#### 53. How to convert a float (32 bits) array into an integer (32 bits) in place? \n",
        "(**hint**: astype(copy=False))"
      ]
    },
    {
      "cell_type": "code",
      "source": [
        "x = np.arange(10,dtype=np.float32)"
      ],
      "metadata": {
        "id": "cDZMBsyI5-B4"
      },
      "execution_count": null,
      "outputs": []
    },
    {
      "cell_type": "code",
      "source": [
        "x"
      ],
      "metadata": {
        "colab": {
          "base_uri": "https://localhost:8080/"
        },
        "id": "eA1nGtZJ6NEM",
        "outputId": "c92445a5-35c1-4568-e41a-4248829874fd"
      },
      "execution_count": null,
      "outputs": [
        {
          "output_type": "execute_result",
          "data": {
            "text/plain": [
              "array([0., 1., 2., 3., 4., 5., 6., 7., 8., 9.], dtype=float32)"
            ]
          },
          "metadata": {},
          "execution_count": 16
        }
      ]
    },
    {
      "cell_type": "code",
      "source": [
        "y = x.astype(np.int32)"
      ],
      "metadata": {
        "id": "KLKZ-Y4f6PHb"
      },
      "execution_count": null,
      "outputs": []
    },
    {
      "cell_type": "code",
      "source": [
        "y"
      ],
      "metadata": {
        "colab": {
          "base_uri": "https://localhost:8080/"
        },
        "id": "8NjaRLUG6UkY",
        "outputId": "7f549d46-cc51-4e17-9e5b-efe1e77a45f3"
      },
      "execution_count": null,
      "outputs": [
        {
          "output_type": "execute_result",
          "data": {
            "text/plain": [
              "array([0, 1, 2, 3, 4, 5, 6, 7, 8, 9], dtype=int32)"
            ]
          },
          "metadata": {},
          "execution_count": 18
        }
      ]
    },
    {
      "cell_type": "markdown",
      "metadata": {
        "id": "Wwx6oTyvATmj"
      },
      "source": [
        "#### 54. How to read the following file? (★★☆) \n",
        "(**hint**: np.genfromtxt)"
      ]
    },
    {
      "cell_type": "markdown",
      "metadata": {
        "id": "Z6-0SKF3ATmj"
      },
      "source": [
        "```\n",
        "1, 2, 3, 4, 5\n",
        "6,  ,  , 7, 8\n",
        " ,  , 9,10,11\n",
        "```"
      ]
    },
    {
      "cell_type": "code",
      "execution_count": 13,
      "metadata": {
        "id": "RZ1xoYmIATmj",
        "colab": {
          "base_uri": "https://localhost:8080/"
        },
        "outputId": "d14729d1-9aa8-44f4-8353-7319fbcebcc4"
      },
      "outputs": [
        {
          "output_type": "stream",
          "name": "stdout",
          "text": [
            "[[ 1  2  3  4  5]\n",
            " [ 6 -1 -1  7  8]\n",
            " [-1 -1  9 10 11]]\n"
          ]
        },
        {
          "output_type": "stream",
          "name": "stderr",
          "text": [
            "/usr/local/lib/python3.7/dist-packages/ipykernel_launcher.py:7: DeprecationWarning: `np.int` is a deprecated alias for the builtin `int`. To silence this warning, use `int` by itself. Doing this will not modify any behavior and is safe. When replacing `np.int`, you may wish to use e.g. `np.int64` or `np.int32` to specify the precision. If you wish to review your current use, check the release note link for additional information.\n",
            "Deprecated in NumPy 1.20; for more details and guidance: https://numpy.org/devdocs/release/1.20.0-notes.html#deprecations\n",
            "  import sys\n"
          ]
        }
      ],
      "source": [
        "from io import StringIO\n",
        "\n",
        "data = StringIO('''1, 2, 3, 4, 5\n",
        "                6,  ,  , 7, 8\n",
        "                 ,  , 9,10,11\n",
        "''')\n",
        "X = np.genfromtxt(data, delimiter=\",\", dtype=np.int)\n",
        "print(X)"
      ]
    },
    {
      "cell_type": "markdown",
      "metadata": {
        "id": "JgCK9kEXATmj"
      },
      "source": [
        "#### 55. What is the equivalent of enumerate for numpy arrays? (★★☆) \n",
        "(**hint**: np.ndenumerate, np.ndindex)"
      ]
    },
    {
      "cell_type": "code",
      "execution_count": null,
      "metadata": {
        "id": "7RUD2YdSATmk",
        "colab": {
          "base_uri": "https://localhost:8080/"
        },
        "outputId": "2d9605ca-4053-4d67-a3c9-6cd1e4c960f3"
      },
      "outputs": [
        {
          "output_type": "stream",
          "name": "stdout",
          "text": [
            "(0, 0) 6\n",
            "(0, 1) 9\n",
            "(1, 0) 1\n",
            "(1, 1) 9\n",
            "(0, 0) 6\n",
            "(0, 1) 9\n",
            "(1, 0) 1\n",
            "(1, 1) 9\n"
          ]
        }
      ],
      "source": [
        "X = np.random.randint(1,11,(2,2))\n",
        "for index, value in np.ndenumerate(X):\n",
        "    print(index, value)\n",
        "for index in np.ndindex(X.shape):\n",
        "    print(index, X[index])"
      ]
    },
    {
      "cell_type": "markdown",
      "metadata": {
        "id": "8SpfBOuqATmk"
      },
      "source": [
        "#### 56. Generate a generic 2D Gaussian-like array (★★☆) \n",
        "(**hint**: np.meshgrid, np.exp)"
      ]
    },
    {
      "cell_type": "code",
      "execution_count": null,
      "metadata": {
        "id": "gf8ENfhfATmk",
        "colab": {
          "base_uri": "https://localhost:8080/"
        },
        "outputId": "10014fd5-da64-4734-cfc6-dc2d4d65905b"
      },
      "outputs": [
        {
          "output_type": "stream",
          "name": "stdout",
          "text": [
            "[[0.36787944 0.44822088 0.51979489 0.57375342 0.60279818 0.60279818\n",
            "  0.57375342 0.51979489 0.44822088 0.36787944]\n",
            " [0.44822088 0.54610814 0.63331324 0.69905581 0.73444367 0.73444367\n",
            "  0.69905581 0.63331324 0.54610814 0.44822088]\n",
            " [0.51979489 0.63331324 0.73444367 0.81068432 0.85172308 0.85172308\n",
            "  0.81068432 0.73444367 0.63331324 0.51979489]\n",
            " [0.57375342 0.69905581 0.81068432 0.89483932 0.9401382  0.9401382\n",
            "  0.89483932 0.81068432 0.69905581 0.57375342]\n",
            " [0.60279818 0.73444367 0.85172308 0.9401382  0.98773022 0.98773022\n",
            "  0.9401382  0.85172308 0.73444367 0.60279818]\n",
            " [0.60279818 0.73444367 0.85172308 0.9401382  0.98773022 0.98773022\n",
            "  0.9401382  0.85172308 0.73444367 0.60279818]\n",
            " [0.57375342 0.69905581 0.81068432 0.89483932 0.9401382  0.9401382\n",
            "  0.89483932 0.81068432 0.69905581 0.57375342]\n",
            " [0.51979489 0.63331324 0.73444367 0.81068432 0.85172308 0.85172308\n",
            "  0.81068432 0.73444367 0.63331324 0.51979489]\n",
            " [0.44822088 0.54610814 0.63331324 0.69905581 0.73444367 0.73444367\n",
            "  0.69905581 0.63331324 0.54610814 0.44822088]\n",
            " [0.36787944 0.44822088 0.51979489 0.57375342 0.60279818 0.60279818\n",
            "  0.57375342 0.51979489 0.44822088 0.36787944]]\n"
          ]
        }
      ],
      "source": [
        "x, y = np.meshgrid(np.linspace(-1,1,10), np.linspace(-1,1,10))\n",
        "d = np.sqrt(x*x+y*y)\n",
        "sigma, mu = 1.0, 0.0\n",
        "g = np.exp(-( (d-mu)**2 / ( 2.0 * sigma**2 ) ) )\n",
        "print(g)"
      ]
    },
    {
      "cell_type": "markdown",
      "metadata": {
        "id": "G6DGZvApATmk"
      },
      "source": [
        "#### 57. How to randomly place p elements in a 2D array? (★★☆) \n",
        "(**hint**: np.put, np.random.choice)"
      ]
    },
    {
      "cell_type": "code",
      "execution_count": null,
      "metadata": {
        "id": "VFF1U-i-ATmk",
        "colab": {
          "base_uri": "https://localhost:8080/"
        },
        "outputId": "71e16b49-c004-42ac-c5fc-fb226e1094e1"
      },
      "outputs": [
        {
          "output_type": "stream",
          "name": "stdout",
          "text": [
            "[[1. 0. 0. 0. 0.]\n",
            " [1. 0. 0. 1. 0.]\n",
            " [0. 0. 0. 0. 0.]\n",
            " [0. 0. 0. 0. 0.]\n",
            " [0. 0. 0. 0. 0.]]\n"
          ]
        }
      ],
      "source": [
        "n = 5\n",
        "p = 3\n",
        "Z = np.zeros((n,n))\n",
        "np.put(Z, np.random.choice(range(n*n), p, replace=False),1)\n",
        "print(Z)"
      ]
    },
    {
      "cell_type": "markdown",
      "metadata": {
        "id": "LxFScY2iATmk"
      },
      "source": [
        "#### 58. Subtract the mean of each row of a matrix (★★☆) \n",
        "(**hint**: mean(axis=,keepdims=))"
      ]
    },
    {
      "cell_type": "code",
      "execution_count": null,
      "metadata": {
        "id": "YXklQ8phATmk",
        "colab": {
          "base_uri": "https://localhost:8080/"
        },
        "outputId": "6d466951-6c5b-4162-99f8-41e3bc89d0f5"
      },
      "outputs": [
        {
          "output_type": "execute_result",
          "data": {
            "text/plain": [
              "array([[ 0.36999027, -0.06937681, -0.14637222, -0.16482192,  0.01058068],\n",
              "       [ 0.31693408, -0.19033469,  0.36308531, -0.22877724, -0.26090745],\n",
              "       [ 0.08075857, -0.10728174,  0.10899834, -0.01229032, -0.07018485],\n",
              "       [-0.11212951,  0.12875403, -0.29404381,  0.19950838,  0.07791091]])"
            ]
          },
          "metadata": {},
          "execution_count": 24
        }
      ],
      "source": [
        "X = np.random.rand(4,5)\n",
        "Y = X - X.mean(axis=1, keepdims=True)\n",
        "Y"
      ]
    },
    {
      "cell_type": "markdown",
      "metadata": {
        "id": "57lc88bUATmk"
      },
      "source": [
        "#### 59. How to sort an array by the nth column? (★★☆) \n",
        "(**hint**: argsort)"
      ]
    },
    {
      "cell_type": "code",
      "execution_count": null,
      "metadata": {
        "id": "557pRfY7ATml",
        "colab": {
          "base_uri": "https://localhost:8080/"
        },
        "outputId": "f202b55b-4e7d-4e9f-ba4e-1a52e610fc44"
      },
      "outputs": [
        {
          "output_type": "stream",
          "name": "stdout",
          "text": [
            "[[93 49 87]\n",
            " [ 4 79 73]\n",
            " [ 6 75 52]]\n"
          ]
        },
        {
          "output_type": "execute_result",
          "data": {
            "text/plain": [
              "array([[93, 49, 87],\n",
              "       [ 6, 75, 52],\n",
              "       [ 4, 79, 73]])"
            ]
          },
          "metadata": {},
          "execution_count": 28
        }
      ],
      "source": [
        "x = np.random.randint(0,100,(3,3))\n",
        "print(x)\n",
        "x[x[:,1].argsort()]"
      ]
    },
    {
      "cell_type": "markdown",
      "metadata": {
        "id": "_NJKTrYgATml"
      },
      "source": [
        "#### 60. How to tell if a given 2D array has null columns? (★★☆) \n",
        "(**hint**: any, ~)"
      ]
    },
    {
      "cell_type": "code",
      "source": [
        "x = np.random.randint(0,10,(4,5))\n",
        "~x.any(axis=0).any()"
      ],
      "metadata": {
        "colab": {
          "base_uri": "https://localhost:8080/"
        },
        "id": "Euju1qV5XBzE",
        "outputId": "6251ba72-5ef6-4fea-99b0-18f29f1e1c3b"
      },
      "execution_count": null,
      "outputs": [
        {
          "output_type": "execute_result",
          "data": {
            "text/plain": [
              "False"
            ]
          },
          "metadata": {},
          "execution_count": 33
        }
      ]
    },
    {
      "cell_type": "markdown",
      "metadata": {
        "id": "zDwOEvuLATml"
      },
      "source": [
        "#### 61. Find the nearest value from a given value in an array (★★☆) \n",
        "(**hint**: np.abs, argmin, flat)"
      ]
    },
    {
      "cell_type": "code",
      "source": [
        "X = np.random.uniform(0,1,5)\n",
        "value = 0.5\n",
        "y = X.flat[np.abs(X-value).argmin()]\n",
        "y"
      ],
      "metadata": {
        "colab": {
          "base_uri": "https://localhost:8080/"
        },
        "id": "jNy9LrSKbAjm",
        "outputId": "6a4d1c39-5efb-464a-8109-286040a5651b"
      },
      "execution_count": null,
      "outputs": [
        {
          "output_type": "execute_result",
          "data": {
            "text/plain": [
              "0.3735381729045625"
            ]
          },
          "metadata": {},
          "execution_count": 37
        }
      ]
    },
    {
      "cell_type": "markdown",
      "metadata": {
        "id": "pwpyuYT0ATml"
      },
      "source": [
        "#### 62. Considering two arrays with shape (1,3) and (3,1), how to compute their sum using an iterator? (★★☆) \n",
        "(**hint**: np.nditer)"
      ]
    },
    {
      "cell_type": "code",
      "execution_count": null,
      "metadata": {
        "id": "u67YaMGsATml",
        "colab": {
          "base_uri": "https://localhost:8080/"
        },
        "outputId": "f08c8514-6251-4c58-a962-e1af52ef9d49"
      },
      "outputs": [
        {
          "output_type": "stream",
          "name": "stdout",
          "text": [
            "[[0]\n",
            " [1]\n",
            " [2]] [[0 1 2]]\n",
            "[[0 1 2]\n",
            " [1 2 3]\n",
            " [2 3 4]]\n"
          ]
        }
      ],
      "source": [
        "A = np.arange(3).reshape(3,1)\n",
        "B = np.arange(3).reshape(1,3)\n",
        "print(A,B)\n",
        "it = np.nditer([A,B,None])\n",
        "for x,y,z in it: z[...] = x + y\n",
        "print(it.operands[2])"
      ]
    },
    {
      "cell_type": "markdown",
      "metadata": {
        "id": "vezkMvWJATmm"
      },
      "source": [
        "#### 63. Create an array class that has a name attribute (★★☆) \n",
        "(**hint**: class method)"
      ]
    },
    {
      "cell_type": "code",
      "execution_count": null,
      "metadata": {
        "id": "deV43bPXATmm"
      },
      "outputs": [],
      "source": [
        "class NamedArray(np.ndarray):\n",
        "    def __new__(cls, array, name=\"no name\"):\n",
        "        obj = np.asarray(array).view(cls)\n",
        "        obj.name = name\n",
        "        return obj\n",
        "    def __array_finalize__(self, obj):\n",
        "        if obj is None: return\n",
        "        self.info = getattr(obj, 'name', \"no name\")\n",
        "\n",
        "Z = NamedArray(np.arange(10), \"range_10\")\n",
        "print (Z.name)"
      ]
    },
    {
      "cell_type": "markdown",
      "metadata": {
        "id": "G7zHoOFSATmm"
      },
      "source": [
        "#### 64. Consider a given vector, how to add 1 to each element indexed by a second vector (be careful with repeated indices)? (★★★) \n",
        "(**hint**: np.bincount | np.add.at)"
      ]
    },
    {
      "cell_type": "code",
      "source": [
        "X = np.ones(10)\n",
        "I = np.arange(len(X))\n",
        "X += np.bincount(I)\n",
        "X"
      ],
      "metadata": {
        "colab": {
          "base_uri": "https://localhost:8080/"
        },
        "id": "hzGwMDIkj9MU",
        "outputId": "e8c8a879-6a06-4f2b-f826-59ad05adc169"
      },
      "execution_count": null,
      "outputs": [
        {
          "output_type": "execute_result",
          "data": {
            "text/plain": [
              "array([2., 2., 2., 2., 2., 2., 2., 2., 2., 2.])"
            ]
          },
          "metadata": {},
          "execution_count": 6
        }
      ]
    },
    {
      "cell_type": "code",
      "source": [
        "X = np.ones(10)\n",
        "I = np.arange(len(X))\n",
        "np.add.at(X, I, 1)\n",
        "print(X)"
      ],
      "metadata": {
        "colab": {
          "base_uri": "https://localhost:8080/"
        },
        "id": "CXjV4Zpcku7H",
        "outputId": "dc3088f6-68cc-4eb9-d6c2-9c53c3bf9e42"
      },
      "execution_count": null,
      "outputs": [
        {
          "output_type": "stream",
          "name": "stdout",
          "text": [
            "[2. 2. 2. 2. 2. 2. 2. 2. 2. 2.]\n"
          ]
        }
      ]
    },
    {
      "cell_type": "markdown",
      "metadata": {
        "id": "I4MRmk-PATmm"
      },
      "source": [
        "#### 65. How to accumulate elements of a vector (X) to an array (F) based on an index list (I)? (★★★) \n",
        "(**hint**: np.bincount)"
      ]
    },
    {
      "cell_type": "code",
      "execution_count": null,
      "metadata": {
        "id": "lyxljdGKATmm",
        "colab": {
          "base_uri": "https://localhost:8080/"
        },
        "outputId": "483893ca-9152-4763-ead6-9c0ce9a96868"
      },
      "outputs": [
        {
          "output_type": "stream",
          "name": "stdout",
          "text": [
            "[0. 7. 0. 6. 5. 0. 0. 0. 0. 3.]\n"
          ]
        }
      ],
      "source": [
        "X = [1,2,3,4,5,6]\n",
        "I = [1,3,9,3,4,1]\n",
        "F = np.bincount(I,X)\n",
        "print(F)"
      ]
    },
    {
      "cell_type": "markdown",
      "metadata": {
        "id": "k8yj84IIATmn"
      },
      "source": [
        "#### 66. Considering a (w,h,3) image of (dtype=ubyte), compute the number of unique colors (★★★) \n",
        "(**hint**: np.unique)"
      ]
    },
    {
      "cell_type": "code",
      "source": [
        "w, h = 256, 256\n",
        "I = np.random.randint(0, 4, (h, w, 3)).astype(np.ubyte)\n",
        "colors = np.unique(np.reshape(I, h*w*3))\n",
        "n = len(colors)\n",
        "print(n)"
      ],
      "metadata": {
        "colab": {
          "base_uri": "https://localhost:8080/"
        },
        "id": "r0suC91MpQgU",
        "outputId": "4c8cf4ad-9528-4a9d-ba22-15de2aea212b"
      },
      "execution_count": null,
      "outputs": [
        {
          "output_type": "stream",
          "name": "stdout",
          "text": [
            "4\n"
          ]
        }
      ]
    },
    {
      "cell_type": "markdown",
      "metadata": {
        "id": "XQfwIXG4ATmn"
      },
      "source": [
        "#### 67. Considering a four dimensions array, how to get sum over the last two axis at once? (★★★) \n",
        "(**hint**: sum(axis=(-2,-1)))"
      ]
    },
    {
      "cell_type": "code",
      "execution_count": null,
      "metadata": {
        "id": "9HSwurKyATmn",
        "colab": {
          "base_uri": "https://localhost:8080/"
        },
        "outputId": "177cca42-4a5a-4926-fa71-b112148b0183"
      },
      "outputs": [
        {
          "output_type": "execute_result",
          "data": {
            "text/plain": [
              "array([[ 6, 22],\n",
              "       [38, 54]])"
            ]
          },
          "metadata": {},
          "execution_count": 2
        }
      ],
      "source": [
        "X = np.arange(16).reshape(2,2,2,2)\n",
        "X.sum(axis=(-2,-1))"
      ]
    },
    {
      "cell_type": "markdown",
      "metadata": {
        "id": "xu4G8GJLATmn"
      },
      "source": [
        "#### 68. Considering a one-dimensional vector D, how to compute means of subsets of D using a vector S of same size describing subset  indices? (★★★) \n",
        "(**hint**: np.bincount)"
      ]
    },
    {
      "cell_type": "code",
      "execution_count": 14,
      "metadata": {
        "id": "VKzhaC0ZATmn",
        "colab": {
          "base_uri": "https://localhost:8080/"
        },
        "outputId": "1c42940c-cca8-4726-8379-7c0e81960c9c"
      },
      "outputs": [
        {
          "output_type": "stream",
          "name": "stdout",
          "text": [
            "[0.42029062 0.46581844 0.65474349 0.61459672 0.47204862 0.59513364\n",
            " 0.63913856 0.51725177 0.45736578 0.54570824]\n"
          ]
        }
      ],
      "source": [
        "D = np.random.uniform(0,1,100)\n",
        "S = np.random.randint(0,10,100)\n",
        "D_sum = np.bincount(S, weights=D)\n",
        "D_counts = np.bincount(S)\n",
        "D_means = D_sum / D_counts\n",
        "print(D_means)"
      ]
    },
    {
      "cell_type": "markdown",
      "metadata": {
        "id": "ZwtshZkVATmn"
      },
      "source": [
        "#### 69. How to get the diagonal of a dot product? (★★★) \n",
        "(**hint**: np.diag)"
      ]
    },
    {
      "cell_type": "code",
      "execution_count": null,
      "metadata": {
        "id": "2TA8L3V8ATmo",
        "colab": {
          "base_uri": "https://localhost:8080/"
        },
        "outputId": "4c3e59cc-a74c-4754-8132-dfd8bd2fbfdb"
      },
      "outputs": [
        {
          "output_type": "execute_result",
          "data": {
            "text/plain": [
              "array([36, 29, 31, 35, 33])"
            ]
          },
          "metadata": {},
          "execution_count": 4
        }
      ],
      "source": [
        "A = np.random.randint(1,5,(5,5))\n",
        "B = np.random.randint(1,5,(5,5))\n",
        "np.diag(np.dot(A, B))"
      ]
    },
    {
      "cell_type": "markdown",
      "metadata": {
        "id": "KfDwIBvoATmo"
      },
      "source": [
        "#### 70. Consider the vector \\[1, 2, 3, 4, 5\\], how to build a new vector with 3 consecutive zeros interleaved between each value? (★★★) \n",
        "(**hint**: array\\[::4\\])"
      ]
    },
    {
      "cell_type": "code",
      "execution_count": null,
      "metadata": {
        "id": "JPfgk0nnATmo",
        "colab": {
          "base_uri": "https://localhost:8080/"
        },
        "outputId": "e88bc4e5-53eb-43e6-8cf7-e7663768290d"
      },
      "outputs": [
        {
          "output_type": "stream",
          "name": "stdout",
          "text": [
            "[1. 0. 0. 0. 2. 0. 0. 0. 3. 0. 0. 0. 4. 0. 0. 0. 5.]\n"
          ]
        }
      ],
      "source": [
        "X = np.array([1,2,3,4,5])\n",
        "num_zeros = 3\n",
        "X_0 = np.zeros(len(X) + (len(X)-1)*(num_zeros))\n",
        "X_0[::num_zeros+1] = X\n",
        "print(X_0)"
      ]
    },
    {
      "cell_type": "markdown",
      "metadata": {
        "id": "BKoOUromATmo"
      },
      "source": [
        "#### 71. Consider an array of dimension (5,5,3), how to mulitply it by an array with dimensions (5,5)? (★★★) \n",
        "(**hint**: array\\[:, :, None\\])"
      ]
    },
    {
      "cell_type": "code",
      "execution_count": null,
      "metadata": {
        "id": "1duVE4MHATmp",
        "colab": {
          "base_uri": "https://localhost:8080/"
        },
        "outputId": "78b8c64a-ee4e-4a79-a2af-2df3e9ba3b03"
      },
      "outputs": [
        {
          "output_type": "stream",
          "name": "stdout",
          "text": [
            "[[[1. 1. 1.]\n",
            "  [1. 1. 1.]\n",
            "  [1. 1. 1.]\n",
            "  [1. 1. 1.]\n",
            "  [1. 1. 1.]]\n",
            "\n",
            " [[1. 1. 1.]\n",
            "  [1. 1. 1.]\n",
            "  [1. 1. 1.]\n",
            "  [1. 1. 1.]\n",
            "  [1. 1. 1.]]\n",
            "\n",
            " [[1. 1. 1.]\n",
            "  [1. 1. 1.]\n",
            "  [1. 1. 1.]\n",
            "  [1. 1. 1.]\n",
            "  [1. 1. 1.]]\n",
            "\n",
            " [[1. 1. 1.]\n",
            "  [1. 1. 1.]\n",
            "  [1. 1. 1.]\n",
            "  [1. 1. 1.]\n",
            "  [1. 1. 1.]]\n",
            "\n",
            " [[1. 1. 1.]\n",
            "  [1. 1. 1.]\n",
            "  [1. 1. 1.]\n",
            "  [1. 1. 1.]\n",
            "  [1. 1. 1.]]]\n"
          ]
        }
      ],
      "source": [
        "A = np.ones((5,5,3))\n",
        "B = np.ones((5,5))\n",
        "print(A * B[:,:,None])"
      ]
    },
    {
      "cell_type": "markdown",
      "metadata": {
        "id": "NQuPyfQtATmp"
      },
      "source": [
        "#### 72. How to swap two rows of an array? (★★★) \n",
        "(**hint**: array\\[\\[\\]\\] = array\\[\\[\\]\\])"
      ]
    },
    {
      "cell_type": "code",
      "execution_count": null,
      "metadata": {
        "id": "mIfg7-XAATmp",
        "colab": {
          "base_uri": "https://localhost:8080/"
        },
        "outputId": "bb6a2abb-ff47-4895-f69e-e93e6094dd25"
      },
      "outputs": [
        {
          "output_type": "stream",
          "name": "stdout",
          "text": [
            "[[ 0  1  2  3  4]\n",
            " [ 5  6  7  8  9]\n",
            " [10 11 12 13 14]\n",
            " [15 16 17 18 19]\n",
            " [20 21 22 23 24]]\n",
            "[[ 5  6  7  8  9]\n",
            " [ 0  1  2  3  4]\n",
            " [10 11 12 13 14]\n",
            " [15 16 17 18 19]\n",
            " [20 21 22 23 24]]\n"
          ]
        }
      ],
      "source": [
        "X = np.arange(25).reshape(5,5)\n",
        "print(X)\n",
        "X[[0,1]] = X[[1,0]]\n",
        "print(X)"
      ]
    },
    {
      "cell_type": "markdown",
      "metadata": {
        "id": "Cqdyy7FfATmq"
      },
      "source": [
        "#### 73. Consider a set of 10 triplets describing 10 triangles (with shared vertices), find the set of unique line segments composing all the  triangles (★★★) \n",
        "(**hint**: repeat, np.roll, np.sort, view, np.unique)"
      ]
    },
    {
      "cell_type": "code",
      "execution_count": null,
      "metadata": {
        "id": "Pv3CuGyLATmr"
      },
      "outputs": [],
      "source": [
        ""
      ]
    },
    {
      "cell_type": "markdown",
      "metadata": {
        "id": "5_tWOPvIATmr"
      },
      "source": [
        "#### 74. Given an array C that is a bincount, how to produce an array A such that np.bincount(A) == C? (★★★) \n",
        "(**hint**: np.repeat)"
      ]
    },
    {
      "cell_type": "code",
      "execution_count": null,
      "metadata": {
        "id": "dZtkqJxSATms",
        "colab": {
          "base_uri": "https://localhost:8080/"
        },
        "outputId": "16cc19c9-f2a9-44e2-a4e3-0a84b429b7bd"
      },
      "outputs": [
        {
          "output_type": "stream",
          "name": "stdout",
          "text": [
            "[0 2 1 1 2 0 1] [0 2 1 1 2 0 1]\n"
          ]
        }
      ],
      "source": [
        "C = np.bincount([1,1,2,3,4,4,6])\n",
        "A = np.repeat(np.arange(len(C)), C)\n",
        "print(C,np.bincount(A))"
      ]
    },
    {
      "cell_type": "markdown",
      "metadata": {
        "id": "Gks7qvUOATmt"
      },
      "source": [
        "#### 75. How to compute averages using a sliding window over an array? (★★★) \n",
        "(**hint**: np.cumsum)"
      ]
    },
    {
      "cell_type": "code",
      "execution_count": null,
      "metadata": {
        "id": "eM7i4QBSATmt",
        "colab": {
          "base_uri": "https://localhost:8080/"
        },
        "outputId": "6f8b26c6-2a34-4f08-d431-aa2e45b229b1"
      },
      "outputs": [
        {
          "output_type": "stream",
          "name": "stdout",
          "text": [
            "[ 1.  2.  3.  4.  5.  6.  7.  8.  9. 10. 11. 12. 13. 14. 15. 16. 17. 18.]\n"
          ]
        }
      ],
      "source": [
        "def moving_average(a, n=3) :\n",
        "    ret = np.cumsum(a, dtype=float)\n",
        "    ret[n:] = ret[n:] - ret[:-n]\n",
        "    return ret[n - 1:] / n\n",
        "Z = np.arange(20)\n",
        "print(moving_average(Z, n=3))"
      ]
    },
    {
      "cell_type": "markdown",
      "metadata": {
        "id": "VVJkjE5lATmu"
      },
      "source": [
        "#### 76. Consider a one-dimensional array Z, build a two-dimensional array whose first row is (Z\\[0\\],Z\\[1\\],Z\\[2\\]) and each subsequent row is  shifted by 1 (last row should be (Z\\[-3\\],Z\\[-2\\],Z\\[-1\\]) (★★★) \n",
        "(**hint**: from numpy.lib import stride_tricks)"
      ]
    },
    {
      "cell_type": "code",
      "execution_count": null,
      "metadata": {
        "id": "tlXZ7aRfATmu",
        "colab": {
          "base_uri": "https://localhost:8080/"
        },
        "outputId": "45788b35-f520-4cb3-87bb-293b56602e80"
      },
      "outputs": [
        {
          "output_type": "stream",
          "name": "stdout",
          "text": [
            "[[0 1 2]\n",
            " [1 2 3]\n",
            " [2 3 4]\n",
            " [3 4 5]\n",
            " [4 5 6]\n",
            " [5 6 7]\n",
            " [6 7 8]\n",
            " [7 8 9]]\n"
          ]
        }
      ],
      "source": [
        "from numpy.lib import stride_tricks\n",
        "\n",
        "def rolling_array(a, window):\n",
        "    shape = (a.size - window + 1, window)\n",
        "    strides = (a.strides[0], a.strides[0])\n",
        "    return stride_tricks.as_strided(a, shape=shape, strides=strides)\n",
        "Z = rolling_array(np.arange(10), 3)\n",
        "print(Z)"
      ]
    },
    {
      "cell_type": "markdown",
      "metadata": {
        "id": "dfZg1gnbATmv"
      },
      "source": [
        "#### 77. How to negate a boolean, or to change the sign of a float inplace? (★★★) \n",
        "(**hint**: np.logical_not, np.negative)"
      ]
    },
    {
      "cell_type": "code",
      "execution_count": null,
      "metadata": {
        "id": "PRd_DErwATmv",
        "colab": {
          "base_uri": "https://localhost:8080/"
        },
        "outputId": "ce37d7e4-4cb5-4f02-ca2f-e11c08f020d4"
      },
      "outputs": [
        {
          "output_type": "stream",
          "name": "stdout",
          "text": [
            "[0. 0. 0. 0. 0. 0. 0. 0. 0. 0.]\n",
            "[ 0.30444206 -0.1357446  -0.69007336 -0.9605445   0.93083524 -0.69573724\n",
            " -0.14399911 -0.63869497 -0.04933572  0.9257391 ]\n",
            "[-0.30444206  0.1357446   0.69007336  0.9605445  -0.93083524  0.69573724\n",
            "  0.14399911  0.63869497  0.04933572 -0.9257391 ]\n"
          ]
        }
      ],
      "source": [
        "X = np.ones(10)\n",
        "print(np.logical_not(X, out=X))\n",
        "\n",
        "Y = np.random.uniform(-1.0,1.0,10)\n",
        "print(Y)\n",
        "print(np.negative(Y, out=Y))"
      ]
    },
    {
      "cell_type": "markdown",
      "metadata": {
        "id": "VWc81fswATmv"
      },
      "source": [
        "#### 78. Consider 2 sets of points P0,P1 describing lines (2d) and a point p, how to compute distance from p to each line i  (P0\\[i\\],P1\\[i\\])? (★★★)"
      ]
    },
    {
      "cell_type": "code",
      "execution_count": 15,
      "metadata": {
        "id": "Rr37u6r8ATmw",
        "colab": {
          "base_uri": "https://localhost:8080/"
        },
        "outputId": "959df4db-da32-457e-8438-7f19f140a9ec"
      },
      "outputs": [
        {
          "output_type": "stream",
          "name": "stdout",
          "text": [
            "[ 9.4342909  15.78987551  3.90526687  5.97100393  3.92599659  5.63807243\n",
            "  4.53502368  3.5384924   8.74579238  0.45894628]\n"
          ]
        }
      ],
      "source": [
        "def distance(P0, P1, p):\n",
        "    T = P1 - P0\n",
        "    L = (T**2).sum(axis=1)\n",
        "    U = -((P0[:,0]-p[...,0])*T[:,0] + (P0[:,1]-p[...,1])*T[:,1]) / L\n",
        "    U = U.reshape(len(U),1)\n",
        "    D = P0 + U*T - p\n",
        "    return np.sqrt((D**2).sum(axis=1))\n",
        "\n",
        "P0 = np.random.uniform(-10,10,(10,2))\n",
        "P1 = np.random.uniform(-10,10,(10,2))\n",
        "p  = np.random.uniform(-10,10,( 1,2))\n",
        "print(distance(P0, P1, p))"
      ]
    },
    {
      "cell_type": "markdown",
      "metadata": {
        "id": "FpJjkPNCATmw"
      },
      "source": [
        "#### 79. Consider 2 sets of points P0,P1 describing lines (2d) and a set of points P, how to compute distance from each point j (P\\[j\\]) to each line i (P0\\[i\\],P1\\[i\\])? (★★★)"
      ]
    },
    {
      "cell_type": "code",
      "execution_count": 16,
      "metadata": {
        "id": "Twoap5TfATmx",
        "colab": {
          "base_uri": "https://localhost:8080/"
        },
        "outputId": "c83bea42-4d4e-4c5e-e1db-012659aaa4aa"
      },
      "outputs": [
        {
          "output_type": "stream",
          "name": "stdout",
          "text": [
            "[[2.93567561e+00 4.42405380e+00 1.15031892e+01 1.06530387e+01\n",
            "  6.83916581e-01 2.94025941e+00 3.13545922e-01 1.13692386e+01\n",
            "  1.12995326e+01 4.01740246e+00]\n",
            " [8.58119109e+00 3.73404858e+00 8.84788893e+00 4.45906845e-01\n",
            "  7.67325283e+00 2.22612543e+00 1.12248169e+01 1.54120639e+00\n",
            "  8.83406431e+00 9.41360676e+00]\n",
            " [9.39270903e+00 5.30340473e+00 1.00746186e+01 1.09014368e-02\n",
            "  1.04041770e+01 4.63390973e+00 1.41104732e+01 2.81879531e+00\n",
            "  1.00952391e+01 8.71853901e+00]\n",
            " [6.20467289e+00 5.74426389e+00 9.88989837e-01 8.62126524e-01\n",
            "  6.78816038e+00 1.09923240e+01 3.61356545e+00 3.31030856e+00\n",
            "  8.10714826e-01 1.46939834e+01]\n",
            " [4.08486856e+00 4.27580808e+00 1.01225570e+01 4.47874003e+00\n",
            "  4.77111059e+00 5.53154593e-01 7.32127414e+00 3.43725706e+00\n",
            "  1.00381664e+01 7.12584553e+00]\n",
            " [1.01352669e+01 6.75325528e+00 1.12092101e+01 3.84705143e-01\n",
            "  1.29213766e+01 6.85458700e+00 1.67690401e+01 3.99096872e+00\n",
            "  1.12615291e+01 8.07332909e+00]\n",
            " [6.78292213e+00 8.52558789e+00 1.57728161e+01 1.47427750e+01\n",
            "  1.64923333e+00 2.23582955e-01 1.73310595e+00 1.48018681e+01\n",
            "  1.55561531e+01 3.57897199e-01]\n",
            " [4.65189975e+00 2.17559646e+00 8.18628808e+00 3.61322456e+00\n",
            "  2.44706684e+00 1.80244476e+00 5.15521231e+00 3.27140823e+00\n",
            "  8.08433783e+00 8.76474409e+00]\n",
            " [1.18120046e+01 3.83147954e+00 1.66118174e+00 3.71249443e+00\n",
            "  2.57891750e-01 5.63643133e+00 4.64094975e+00 3.48681681e+00\n",
            "  1.60461461e+00 1.58267844e+01]\n",
            " [9.90621182e-01 8.58547254e+00 1.44398661e+01 7.94559728e+00\n",
            "  7.98594343e+00 4.37467224e+00 9.78555977e+00 5.96819257e+00\n",
            "  1.43581786e+01 2.93505645e+00]]\n"
          ]
        }
      ],
      "source": [
        "def distance(P0, P1, p):\n",
        "    T = P1 - P0\n",
        "    L = (T**2).sum(axis=1)\n",
        "    U = -((P0[:,0]-p[...,0])*T[:,0] + (P0[:,1]-p[...,1])*T[:,1]) / L\n",
        "    U = U.reshape(len(U),1)\n",
        "    D = P0 + U*T - p\n",
        "    return np.sqrt((D**2).sum(axis=1))\n",
        "    \n",
        "P0 = np.random.uniform(-10, 10, (10,2))\n",
        "P1 = np.random.uniform(-10,10,(10,2))\n",
        "p = np.random.uniform(-10, 10, (10,2))\n",
        "print(np.array([distance(P0,P1,p_i) for p_i in p]))"
      ]
    },
    {
      "cell_type": "markdown",
      "metadata": {
        "id": "izw1KxhYATmx"
      },
      "source": [
        "#### 80. Consider an arbitrary array, write a function that extract a subpart with a fixed shape and centered on a given element (pad with a `fill` value when necessary) (★★★) \n",
        "(**hint**: minimum, maximum)"
      ]
    },
    {
      "cell_type": "code",
      "execution_count": null,
      "metadata": {
        "id": "jqYNfpBqATmx"
      },
      "outputs": [],
      "source": [
        ""
      ]
    },
    {
      "cell_type": "markdown",
      "metadata": {
        "id": "gy2ciVg1ATmx"
      },
      "source": [
        "#### 81. Consider an array Z = \\[1,2,3,4,5,6,7,8,9,10,11,12,13,14\\], how to generate an array R = \\[\\[1,2,3,4\\], \\[2,3,4,5\\], \\[3,4,5,6\\], ..., \\[11,12,13,14\\]\\]? (★★★) \n",
        "(**hint**: stride\\_tricks.as\\_strided)"
      ]
    },
    {
      "cell_type": "code",
      "execution_count": null,
      "metadata": {
        "id": "pyw22aBCATmy",
        "colab": {
          "base_uri": "https://localhost:8080/"
        },
        "outputId": "390f54a4-7b24-44ea-9058-bc8dc880da27"
      },
      "outputs": [
        {
          "output_type": "stream",
          "name": "stdout",
          "text": [
            "[[ 1  2  3  4]\n",
            " [ 2  3  4  5]\n",
            " [ 3  4  5  6]\n",
            " [ 4  5  6  7]\n",
            " [ 5  6  7  8]\n",
            " [ 6  7  8  9]\n",
            " [ 7  8  9 10]\n",
            " [ 8  9 10 11]\n",
            " [ 9 10 11 12]\n",
            " [10 11 12 13]\n",
            " [11 12 13 14]]\n"
          ]
        }
      ],
      "source": [
        "Z = np.arange(1,15,dtype=np.int32)\n",
        "R = stride_tricks.as_strided(Z,(11,4),(4,4))\n",
        "print(R)"
      ]
    },
    {
      "cell_type": "markdown",
      "metadata": {
        "id": "7YS4qa3WATmy"
      },
      "source": [
        "#### 82. Compute a matrix rank (★★★) \n",
        "(**hint**: np.linalg.svd) (suggestion: np.linalg.svd)"
      ]
    },
    {
      "cell_type": "code",
      "execution_count": null,
      "metadata": {
        "id": "NBUmqJrTATmy",
        "colab": {
          "base_uri": "https://localhost:8080/"
        },
        "outputId": "fbfcd858-e339-4fea-840b-0e1640a73020"
      },
      "outputs": [
        {
          "output_type": "stream",
          "name": "stdout",
          "text": [
            "10\n"
          ]
        }
      ],
      "source": [
        "Z = np.random.uniform(0,1,(10,10))\n",
        "\n",
        "rank = np.linalg.matrix_rank(Z)\n",
        "print(rank)"
      ]
    },
    {
      "cell_type": "markdown",
      "metadata": {
        "id": "CR-eaDtIATmy"
      },
      "source": [
        "#### 83. How to find the most frequent value in an array? \n",
        "(**hint**: np.bincount, argmax)"
      ]
    },
    {
      "cell_type": "code",
      "execution_count": null,
      "metadata": {
        "id": "72r--MudATmz",
        "colab": {
          "base_uri": "https://localhost:8080/"
        },
        "outputId": "5127e5d0-f97e-43db-bb74-a80cbba7fc80"
      },
      "outputs": [
        {
          "output_type": "stream",
          "name": "stdout",
          "text": [
            "[6 5 2 1 6 4 4 1 9 2 3 0 2 3 6 7 1 4 7 1 7 6 0 0 7 7 9 8 7 7 4 0 5 8 2 5 6\n",
            " 9 9 2 9 8 2 3 2 8 4 9 6 7]\n",
            "7\n"
          ]
        }
      ],
      "source": [
        "X = np.random.randint(0,10,50)\n",
        "print(X)\n",
        "print(np.bincount(X).argmax())"
      ]
    },
    {
      "cell_type": "markdown",
      "metadata": {
        "id": "q0iQr-ZvATmz"
      },
      "source": [
        "#### 84. Extract all the contiguous 3x3 blocks from a random 10x10 matrix (★★★) \n",
        "(**hint**: stride\\_tricks.as\\_strided)"
      ]
    },
    {
      "cell_type": "code",
      "execution_count": null,
      "metadata": {
        "id": "0LEOV4a8ATmz",
        "colab": {
          "base_uri": "https://localhost:8080/"
        },
        "outputId": "9202a9c4-ae66-40d7-e82c-e0ba6fc81a8d"
      },
      "outputs": [
        {
          "output_type": "stream",
          "name": "stdout",
          "text": [
            "[[[[3 4 3]\n",
            "   [1 3 1]\n",
            "   [3 4 0]]\n",
            "\n",
            "  [[4 3 0]\n",
            "   [3 1 3]\n",
            "   [4 0 4]]\n",
            "\n",
            "  [[3 0 0]\n",
            "   [1 3 1]\n",
            "   [0 4 0]]\n",
            "\n",
            "  [[0 0 4]\n",
            "   [3 1 1]\n",
            "   [4 0 4]]\n",
            "\n",
            "  [[0 4 1]\n",
            "   [1 1 1]\n",
            "   [0 4 0]]\n",
            "\n",
            "  [[4 1 1]\n",
            "   [1 1 2]\n",
            "   [4 0 4]]\n",
            "\n",
            "  [[1 1 0]\n",
            "   [1 2 0]\n",
            "   [0 4 4]]\n",
            "\n",
            "  [[1 0 3]\n",
            "   [2 0 3]\n",
            "   [4 4 2]]]\n",
            "\n",
            "\n",
            " [[[1 3 1]\n",
            "   [3 4 0]\n",
            "   [4 4 2]]\n",
            "\n",
            "  [[3 1 3]\n",
            "   [4 0 4]\n",
            "   [4 2 3]]\n",
            "\n",
            "  [[1 3 1]\n",
            "   [0 4 0]\n",
            "   [2 3 1]]\n",
            "\n",
            "  [[3 1 1]\n",
            "   [4 0 4]\n",
            "   [3 1 2]]\n",
            "\n",
            "  [[1 1 1]\n",
            "   [0 4 0]\n",
            "   [1 2 2]]\n",
            "\n",
            "  [[1 1 2]\n",
            "   [4 0 4]\n",
            "   [2 2 0]]\n",
            "\n",
            "  [[1 2 0]\n",
            "   [0 4 4]\n",
            "   [2 0 0]]\n",
            "\n",
            "  [[2 0 3]\n",
            "   [4 4 2]\n",
            "   [0 0 0]]]\n",
            "\n",
            "\n",
            " [[[3 4 0]\n",
            "   [4 4 2]\n",
            "   [2 1 1]]\n",
            "\n",
            "  [[4 0 4]\n",
            "   [4 2 3]\n",
            "   [1 1 4]]\n",
            "\n",
            "  [[0 4 0]\n",
            "   [2 3 1]\n",
            "   [1 4 2]]\n",
            "\n",
            "  [[4 0 4]\n",
            "   [3 1 2]\n",
            "   [4 2 4]]\n",
            "\n",
            "  [[0 4 0]\n",
            "   [1 2 2]\n",
            "   [2 4 3]]\n",
            "\n",
            "  [[4 0 4]\n",
            "   [2 2 0]\n",
            "   [4 3 1]]\n",
            "\n",
            "  [[0 4 4]\n",
            "   [2 0 0]\n",
            "   [3 1 0]]\n",
            "\n",
            "  [[4 4 2]\n",
            "   [0 0 0]\n",
            "   [1 0 0]]]\n",
            "\n",
            "\n",
            " [[[4 4 2]\n",
            "   [2 1 1]\n",
            "   [4 4 1]]\n",
            "\n",
            "  [[4 2 3]\n",
            "   [1 1 4]\n",
            "   [4 1 2]]\n",
            "\n",
            "  [[2 3 1]\n",
            "   [1 4 2]\n",
            "   [1 2 3]]\n",
            "\n",
            "  [[3 1 2]\n",
            "   [4 2 4]\n",
            "   [2 3 3]]\n",
            "\n",
            "  [[1 2 2]\n",
            "   [2 4 3]\n",
            "   [3 3 4]]\n",
            "\n",
            "  [[2 2 0]\n",
            "   [4 3 1]\n",
            "   [3 4 3]]\n",
            "\n",
            "  [[2 0 0]\n",
            "   [3 1 0]\n",
            "   [4 3 2]]\n",
            "\n",
            "  [[0 0 0]\n",
            "   [1 0 0]\n",
            "   [3 2 2]]]\n",
            "\n",
            "\n",
            " [[[2 1 1]\n",
            "   [4 4 1]\n",
            "   [0 0 2]]\n",
            "\n",
            "  [[1 1 4]\n",
            "   [4 1 2]\n",
            "   [0 2 3]]\n",
            "\n",
            "  [[1 4 2]\n",
            "   [1 2 3]\n",
            "   [2 3 3]]\n",
            "\n",
            "  [[4 2 4]\n",
            "   [2 3 3]\n",
            "   [3 3 3]]\n",
            "\n",
            "  [[2 4 3]\n",
            "   [3 3 4]\n",
            "   [3 3 1]]\n",
            "\n",
            "  [[4 3 1]\n",
            "   [3 4 3]\n",
            "   [3 1 3]]\n",
            "\n",
            "  [[3 1 0]\n",
            "   [4 3 2]\n",
            "   [1 3 3]]\n",
            "\n",
            "  [[1 0 0]\n",
            "   [3 2 2]\n",
            "   [3 3 0]]]\n",
            "\n",
            "\n",
            " [[[4 4 1]\n",
            "   [0 0 2]\n",
            "   [3 1 1]]\n",
            "\n",
            "  [[4 1 2]\n",
            "   [0 2 3]\n",
            "   [1 1 3]]\n",
            "\n",
            "  [[1 2 3]\n",
            "   [2 3 3]\n",
            "   [1 3 4]]\n",
            "\n",
            "  [[2 3 3]\n",
            "   [3 3 3]\n",
            "   [3 4 3]]\n",
            "\n",
            "  [[3 3 4]\n",
            "   [3 3 1]\n",
            "   [4 3 2]]\n",
            "\n",
            "  [[3 4 3]\n",
            "   [3 1 3]\n",
            "   [3 2 1]]\n",
            "\n",
            "  [[4 3 2]\n",
            "   [1 3 3]\n",
            "   [2 1 4]]\n",
            "\n",
            "  [[3 2 2]\n",
            "   [3 3 0]\n",
            "   [1 4 1]]]\n",
            "\n",
            "\n",
            " [[[0 0 2]\n",
            "   [3 1 1]\n",
            "   [1 3 4]]\n",
            "\n",
            "  [[0 2 3]\n",
            "   [1 1 3]\n",
            "   [3 4 0]]\n",
            "\n",
            "  [[2 3 3]\n",
            "   [1 3 4]\n",
            "   [4 0 3]]\n",
            "\n",
            "  [[3 3 3]\n",
            "   [3 4 3]\n",
            "   [0 3 0]]\n",
            "\n",
            "  [[3 3 1]\n",
            "   [4 3 2]\n",
            "   [3 0 0]]\n",
            "\n",
            "  [[3 1 3]\n",
            "   [3 2 1]\n",
            "   [0 0 2]]\n",
            "\n",
            "  [[1 3 3]\n",
            "   [2 1 4]\n",
            "   [0 2 2]]\n",
            "\n",
            "  [[3 3 0]\n",
            "   [1 4 1]\n",
            "   [2 2 2]]]\n",
            "\n",
            "\n",
            " [[[3 1 1]\n",
            "   [1 3 4]\n",
            "   [1 2 1]]\n",
            "\n",
            "  [[1 1 3]\n",
            "   [3 4 0]\n",
            "   [2 1 4]]\n",
            "\n",
            "  [[1 3 4]\n",
            "   [4 0 3]\n",
            "   [1 4 3]]\n",
            "\n",
            "  [[3 4 3]\n",
            "   [0 3 0]\n",
            "   [4 3 4]]\n",
            "\n",
            "  [[4 3 2]\n",
            "   [3 0 0]\n",
            "   [3 4 2]]\n",
            "\n",
            "  [[3 2 1]\n",
            "   [0 0 2]\n",
            "   [4 2 0]]\n",
            "\n",
            "  [[2 1 4]\n",
            "   [0 2 2]\n",
            "   [2 0 3]]\n",
            "\n",
            "  [[1 4 1]\n",
            "   [2 2 2]\n",
            "   [0 3 4]]]]\n"
          ]
        }
      ],
      "source": [
        "Z = np.random.randint(0,5,(10,10))\n",
        "n = 3\n",
        "i = 1 + (Z.shape[0]-3)\n",
        "j = 1 + (Z.shape[1]-3)\n",
        "C = stride_tricks.as_strided(Z, shape=(i, j, n, n), strides=Z.strides + Z.strides)\n",
        "print(C)"
      ]
    },
    {
      "cell_type": "markdown",
      "metadata": {
        "id": "ANMntuskATmz"
      },
      "source": [
        "#### 85. Create a 2D array subclass such that Z\\[i,j\\] == Z\\[j,i\\] (★★★) \n",
        "(**hint**: class method)"
      ]
    },
    {
      "cell_type": "code",
      "execution_count": null,
      "metadata": {
        "id": "JZiZ1aTBATm0"
      },
      "outputs": [],
      "source": [
        ""
      ]
    },
    {
      "cell_type": "markdown",
      "metadata": {
        "id": "kvxy2_OqATm0"
      },
      "source": [
        "#### 86. Consider a set of p matrices wich shape (n,n) and a set of p vectors with shape (n,1). How to compute the sum of of the p matrix products at once? (result has shape (n,1)) (★★★) \n",
        "(**hint**: np.tensordot)"
      ]
    },
    {
      "cell_type": "code",
      "execution_count": null,
      "metadata": {
        "id": "Cv1hVGfiATm0",
        "colab": {
          "base_uri": "https://localhost:8080/"
        },
        "outputId": "60b6c21d-043a-4fb2-af7a-9dc2647d3b4b"
      },
      "outputs": [
        {
          "output_type": "stream",
          "name": "stdout",
          "text": [
            "(20, 1)\n"
          ]
        }
      ],
      "source": [
        "p, n = 10, 20\n",
        "M = np.ones((p,n,n))\n",
        "V = np.ones((p,n,1))\n",
        "S = np.tensordot(M, V, axes=[[0, 2], [0, 1]])\n",
        "print(S.shape)"
      ]
    },
    {
      "cell_type": "markdown",
      "metadata": {
        "id": "IvfhUICmATm0"
      },
      "source": [
        "#### 87. Consider a 16x16 array, how to get the block-sum (block size is 4x4)? (★★★) \n",
        "(**hint**: np.add.reduceat)"
      ]
    },
    {
      "cell_type": "code",
      "execution_count": null,
      "metadata": {
        "id": "4G4O_xoaATm1",
        "colab": {
          "base_uri": "https://localhost:8080/"
        },
        "outputId": "05f03f4e-d3e9-4503-b168-92612d31616e"
      },
      "outputs": [
        {
          "output_type": "stream",
          "name": "stdout",
          "text": [
            "[[16. 16. 16. 16.]\n",
            " [16. 16. 16. 16.]\n",
            " [16. 16. 16. 16.]\n",
            " [16. 16. 16. 16.]]\n"
          ]
        }
      ],
      "source": [
        "Z = np.ones((16,16))\n",
        "k = 4\n",
        "S = np.add.reduceat(np.add.reduceat(Z, np.arange(0, Z.shape[0], k), axis=0),\n",
        "                                       np.arange(0, Z.shape[1], k), axis=1)\n",
        "print(S)"
      ]
    },
    {
      "cell_type": "markdown",
      "metadata": {
        "id": "rT399F4gATm1"
      },
      "source": [
        "#### 88. How to implement the Game of Life using numpy arrays? (★★★)"
      ]
    },
    {
      "cell_type": "code",
      "execution_count": null,
      "metadata": {
        "id": "hvXNWHIOATm1"
      },
      "outputs": [],
      "source": [
        "def iterate(Z):\n",
        "    # Count neighbours\n",
        "    N = (Z[0:-2,0:-2] + Z[0:-2,1:-1] + Z[0:-2,2:] +\n",
        "         Z[1:-1,0:-2]                + Z[1:-1,2:] +\n",
        "         Z[2:  ,0:-2] + Z[2:  ,1:-1] + Z[2:  ,2:])\n",
        "\n",
        "    # Apply rules\n",
        "    birth = (N==3) & (Z[1:-1,1:-1]==0)\n",
        "    survive = ((N==2) | (N==3)) & (Z[1:-1,1:-1]==1)\n",
        "    Z[...] = 0\n",
        "    Z[1:-1,1:-1][birth | survive] = 1\n",
        "    return Z\n",
        "\n",
        "Z = np.random.randint(0,2,(50,50))\n",
        "for i in range(100): Z = iterate(Z)\n",
        "print(Z)"
      ]
    },
    {
      "cell_type": "markdown",
      "metadata": {
        "id": "CMeIurvJATm1"
      },
      "source": [
        "#### 89. How to get the n largest values of an array (★★★) \n",
        "(**hint**: np.argsort | np.argpartition)"
      ]
    },
    {
      "cell_type": "code",
      "execution_count": null,
      "metadata": {
        "id": "bSDTvIzxATm1",
        "colab": {
          "base_uri": "https://localhost:8080/"
        },
        "outputId": "c6a7153c-2e60-417f-cefd-efc060d7aabe"
      },
      "outputs": [
        {
          "output_type": "stream",
          "name": "stdout",
          "text": [
            "[95 96 97 98 99]\n"
          ]
        }
      ],
      "source": [
        "Z = np.arange(100)\n",
        "np.random.shuffle(Z)\n",
        "n = 5\n",
        "\n",
        "print (Z[np.argsort(Z)[-n:]])"
      ]
    },
    {
      "cell_type": "code",
      "source": [
        "print (Z[np.argpartition(-Z,n)[:n]])"
      ],
      "metadata": {
        "colab": {
          "base_uri": "https://localhost:8080/"
        },
        "id": "sReftb5iCl6e",
        "outputId": "902b966f-e158-43f9-984c-7083b4d267da"
      },
      "execution_count": null,
      "outputs": [
        {
          "output_type": "stream",
          "name": "stdout",
          "text": [
            "[98 99 97 96 95]\n"
          ]
        }
      ]
    },
    {
      "cell_type": "markdown",
      "metadata": {
        "id": "6zUN1UNlATm2"
      },
      "source": [
        "#### 90. Given an arbitrary number of vectors, build the cartesian product (every combinations of every item) (★★★) \n",
        "(**hint**: np.indices)"
      ]
    },
    {
      "cell_type": "code",
      "execution_count": null,
      "metadata": {
        "scrolled": true,
        "id": "4itE0DGvATm2"
      },
      "outputs": [],
      "source": [
        "def cartesian(arrays):\n",
        "    arrays = [np.asarray(a) for a in arrays]\n",
        "    shape = (len(x) for x in arrays)\n",
        "\n",
        "    ix = np.indices(shape, dtype=int)\n",
        "    ix = ix.reshape(len(arrays), -1).T\n",
        "\n",
        "    for n, arr in enumerate(arrays):\n",
        "        ix[:, n] = arrays[n][ix[:, n]]\n",
        "\n",
        "    return ix\n",
        "\n",
        "print (cartesian(([1, 2, 3], [4, 5], [6, 7])))"
      ]
    },
    {
      "cell_type": "markdown",
      "metadata": {
        "id": "oKgFSFP-ATm2"
      },
      "source": [
        "#### 91. How to create a record array from a regular array? (★★★) \n",
        "(**hint**: np.core.records.fromarrays)"
      ]
    },
    {
      "cell_type": "code",
      "execution_count": 20,
      "metadata": {
        "id": "EfgYj1L1ATm2",
        "colab": {
          "base_uri": "https://localhost:8080/"
        },
        "outputId": "df0fd77d-d4ce-49f1-b7b5-d07b197d5e3f"
      },
      "outputs": [
        {
          "output_type": "stream",
          "name": "stdout",
          "text": [
            "[(b'Welcome', 7.4, 3) (b'Home', 3.6, 2)]\n"
          ]
        }
      ],
      "source": [
        "Z = np.array([(\"Welcome\", 7.4, 3),\n",
        "              (\"Home\", 3.6, 2)])\n",
        "R = np.core.records.fromarrays(Z.T,\n",
        "                               names='col1, col2, col3',\n",
        "                               formats = 'S8, f8, i8')\n",
        "print(R)"
      ]
    },
    {
      "cell_type": "markdown",
      "metadata": {
        "id": "pdXBZHxoATm2"
      },
      "source": [
        "#### 92. Consider a large vector Z, compute Z to the power of 3 using 3 different methods (★★★) \n",
        "(**hint**: np.power, \\*, np.einsum)"
      ]
    },
    {
      "cell_type": "code",
      "execution_count": null,
      "metadata": {
        "id": "bXyZaQc8ATm3",
        "colab": {
          "base_uri": "https://localhost:8080/"
        },
        "outputId": "02ec5c03-85ac-415f-e2bc-cd0abd0eb298"
      },
      "outputs": [
        {
          "output_type": "stream",
          "name": "stdout",
          "text": [
            "[3.38823673e-01 4.84034589e-02 8.31884475e-01 ... 2.46822554e-01\n",
            " 4.14258286e-01 1.59307510e-04]\n",
            "[3.38823673e-01 4.84034589e-02 8.31884475e-01 ... 2.46822554e-01\n",
            " 4.14258286e-01 1.59307510e-04]\n",
            "[3.38823673e-01 4.84034589e-02 8.31884475e-01 ... 2.46822554e-01\n",
            " 4.14258286e-01 1.59307510e-04]\n"
          ]
        }
      ],
      "source": [
        "x = np.random.rand(int(5e5))\n",
        "print(np.power(x,3))\n",
        "print(x*x*x)\n",
        "print(np.einsum('i,i,i->i',x,x,x))"
      ]
    },
    {
      "cell_type": "markdown",
      "metadata": {
        "id": "cGKky5lPATm3"
      },
      "source": [
        "#### 93. Consider two arrays A and B of shape (8,3) and (2,2). How to find rows of A that contain elements of each row of B regardless of the order of the elements in B? (★★★) \n",
        "(**hint**: np.where)"
      ]
    },
    {
      "cell_type": "code",
      "execution_count": null,
      "metadata": {
        "id": "p-CmDI9iATm3",
        "colab": {
          "base_uri": "https://localhost:8080/"
        },
        "outputId": "aff4ec17-3ec3-440b-b14f-5c215be6af32"
      },
      "outputs": [
        {
          "output_type": "stream",
          "name": "stdout",
          "text": [
            "[[2 3 1]\n",
            " [2 0 0]\n",
            " [0 4 1]\n",
            " [2 1 0]\n",
            " [2 0 4]\n",
            " [2 3 4]\n",
            " [1 2 2]\n",
            " [0 4 0]]\n",
            "[[2 2]\n",
            " [0 1]]\n",
            "[0 1 3 4 6]\n"
          ]
        }
      ],
      "source": [
        "A = np.random.randint(0,5,(8,3))\n",
        "B = np.random.randint(0,5,(2,2))\n",
        "print(A,B,sep='\\n')\n",
        "C = (A[..., np.newaxis, np.newaxis] == B)\n",
        "rows = np.where(C.any((3,1)).all(1))[0]\n",
        "print(rows)"
      ]
    },
    {
      "cell_type": "markdown",
      "metadata": {
        "id": "hfjHZvNnATm3"
      },
      "source": [
        "#### 94. Considering a 10x3 matrix, extract rows with unequal values (e.g. \\[2,2,3\\]) (★★★)"
      ]
    },
    {
      "cell_type": "code",
      "execution_count": null,
      "metadata": {
        "id": "W1eWh_FCATm3",
        "colab": {
          "base_uri": "https://localhost:8080/"
        },
        "outputId": "a0f40b04-57af-4aba-ca91-a66db5ef054a"
      },
      "outputs": [
        {
          "output_type": "stream",
          "name": "stdout",
          "text": [
            "[[3 4 2]\n",
            " [1 2 0]\n",
            " [1 0 4]\n",
            " [4 3 0]\n",
            " [1 0 1]\n",
            " [4 3 0]\n",
            " [3 3 3]\n",
            " [1 3 3]\n",
            " [4 1 4]\n",
            " [3 2 3]]\n",
            "[[3 4 2]\n",
            " [1 2 0]\n",
            " [1 0 4]\n",
            " [4 3 0]\n",
            " [1 0 1]\n",
            " [4 3 0]\n",
            " [1 3 3]\n",
            " [4 1 4]\n",
            " [3 2 3]]\n"
          ]
        }
      ],
      "source": [
        "Z = np.random.randint(0,5,(10,3))\n",
        "print(Z)\n",
        "\n",
        "E = np.all(Z[:,1:] == Z[:,:-1], axis=1)\n",
        "U = Z[~E]\n",
        "print(U)"
      ]
    },
    {
      "cell_type": "markdown",
      "metadata": {
        "id": "YnkgpEZaATm3"
      },
      "source": [
        "#### 95. Convert a vector of ints into a matrix binary representation (★★★) \n",
        "(**hint**: np.unpackbits)"
      ]
    },
    {
      "cell_type": "code",
      "execution_count": null,
      "metadata": {
        "id": "-gDiq5oyATm4",
        "colab": {
          "base_uri": "https://localhost:8080/"
        },
        "outputId": "0e7809f6-fd2f-46db-ca67-b6790662cc0b"
      },
      "outputs": [
        {
          "output_type": "stream",
          "name": "stdout",
          "text": [
            "[[0 0 0 0 0 0 0 0]\n",
            " [0 0 0 0 0 0 0 1]\n",
            " [0 0 0 0 0 0 1 0]\n",
            " [0 0 0 0 0 0 1 1]\n",
            " [0 0 0 0 1 1 1 1]\n",
            " [0 0 0 1 0 0 0 0]\n",
            " [0 0 1 0 0 0 0 0]\n",
            " [0 1 0 0 0 0 0 0]\n",
            " [1 0 0 0 0 0 0 0]]\n"
          ]
        }
      ],
      "source": [
        "I = np.array([0, 1, 2, 3, 15, 16, 32, 64, 128], dtype=np.uint8)\n",
        "print(np.unpackbits(I[:, np.newaxis], axis=1))"
      ]
    },
    {
      "cell_type": "markdown",
      "metadata": {
        "id": "IQloRJHXATm4"
      },
      "source": [
        "#### 96. Given a two dimensional array, how to extract unique rows? (★★★) \n",
        "(**hint**: np.ascontiguousarray)"
      ]
    },
    {
      "cell_type": "code",
      "execution_count": null,
      "metadata": {
        "id": "8BAUmk5sATm4",
        "colab": {
          "base_uri": "https://localhost:8080/"
        },
        "outputId": "1470c725-3344-4ca7-ba6c-42875efe0b25"
      },
      "outputs": [
        {
          "output_type": "stream",
          "name": "stdout",
          "text": [
            "[[1 2 3]\n",
            " [1 2 3]\n",
            " [1 2 3]\n",
            " [4 5 6]\n",
            " [7 8 9]]\n",
            "[[1 2 3]\n",
            " [4 5 6]\n",
            " [7 8 9]]\n"
          ]
        }
      ],
      "source": [
        "X = np.array([[1,2,3],[1,2,3],[1,2,3],[4,5,6],[7,8,9]])\n",
        "print(X)\n",
        "unique_rows = np.unique(X, axis=0)\n",
        "print(unique_rows)"
      ]
    },
    {
      "cell_type": "markdown",
      "metadata": {
        "id": "3Xl9a1WDATm4"
      },
      "source": [
        "#### 97. Considering 2 vectors A & B, write the einsum equivalent of inner, outer, sum, and mul function (★★★) \n",
        "(**hint**: np.einsum)"
      ]
    },
    {
      "cell_type": "code",
      "execution_count": null,
      "metadata": {
        "id": "ZDFJf9H1ATm4",
        "colab": {
          "base_uri": "https://localhost:8080/"
        },
        "outputId": "adfa1bc1-a759-4b79-d66d-0c8bf8db50af"
      },
      "outputs": [
        {
          "output_type": "stream",
          "name": "stdout",
          "text": [
            "[2. 2. 2. 2. 2.]\n",
            "[3. 3. 3. 3. 3.]\n",
            "Sum 10.0\n",
            "Product [6. 6. 6. 6. 6.]\n",
            "Inner 30.0\n",
            "Outer [[6. 6. 6. 6. 6.]\n",
            " [6. 6. 6. 6. 6.]\n",
            " [6. 6. 6. 6. 6.]\n",
            " [6. 6. 6. 6. 6.]\n",
            " [6. 6. 6. 6. 6.]]\n"
          ]
        }
      ],
      "source": [
        "#A = np.random.uniform(0,1,10)\n",
        "#B = np.random.uniform(0,1,10)\n",
        "A = 2*np.ones(5)\n",
        "B = 3*np.ones(5)\n",
        "print(A)\n",
        "print(B)\n",
        "print(\"Sum\", np.einsum('i->', A))      # np.sum(A)\n",
        "print(\"Product\",np.einsum('i,i->i', A, B)) # A * B\n",
        "print(\"Inner\",np.einsum('i,i', A, B))   # np.inner(A, B)\n",
        "print(\"Outer\",np.einsum('i,j->ij', A, B))    # np.outer(A, B)"
      ]
    },
    {
      "cell_type": "markdown",
      "metadata": {
        "id": "iIxuETlvATm4"
      },
      "source": [
        "#### 98. Considering a path described by two vectors (X,Y), how to sample it using equidistant samples (★★★)? \n",
        "(**hint**: np.cumsum, np.interp)"
      ]
    },
    {
      "cell_type": "code",
      "execution_count": null,
      "metadata": {
        "collapsed": true,
        "id": "Y8y77VShATm4"
      },
      "outputs": [],
      "source": [
        "phi = np.arange(0, 10*np.pi, 0.1)\n",
        "a = 1\n",
        "x = a*phi*np.cos(phi)\n",
        "y = a*phi*np.sin(phi)\n",
        "\n",
        "dr = (np.diff(x)**2 + np.diff(y)**2)**.5 # segment lengths\n",
        "r = np.zeros_like(x)\n",
        "r[1:] = np.cumsum(dr)                # integrate path\n",
        "r_int = np.linspace(0, r.max(), 200) # regular spaced path\n",
        "x_int = np.interp(r_int, r, x)       # integrate path\n",
        "y_int = np.interp(r_int, r, y)"
      ]
    },
    {
      "cell_type": "markdown",
      "metadata": {
        "id": "ss1XOSpUATm4"
      },
      "source": [
        "#### 99. Given an integer n and a 2D array X, select from X the rows which can be interpreted as draws from a multinomial distribution with n degrees, i.e., the rows which only contain integers and which sum to n. (★★★) \n",
        "(**hint**: np.logical\\_and.reduce, np.mod)"
      ]
    },
    {
      "cell_type": "code",
      "execution_count": 21,
      "metadata": {
        "id": "O3r7gHxZATm5",
        "colab": {
          "base_uri": "https://localhost:8080/"
        },
        "outputId": "80701bea-f1e7-4dfe-f03e-2fa96ede4ced"
      },
      "outputs": [
        {
          "output_type": "stream",
          "name": "stdout",
          "text": [
            "[[2. 0. 1. 1.]]\n"
          ]
        }
      ],
      "source": [
        "X = np.asarray([[1.0, 0.0, 3.0, 8.0],\n",
        "                [2.0, 0.0, 1.0, 1.0],\n",
        "                [1.5, 2.5, 1.0, 0.0]])\n",
        "n = 4\n",
        "M = np.logical_and.reduce(np.mod(X, 1) == 0, axis=-1)\n",
        "M &= (X.sum(axis=-1) == n)\n",
        "print(X[M])"
      ]
    },
    {
      "cell_type": "markdown",
      "metadata": {
        "id": "aqfrhqveATm5"
      },
      "source": [
        "#### 100. Compute bootstrapped 95% confidence intervals for the mean of a 1D array X (i.e., resample the elements of an array with replacement N times, compute the mean of each sample, and then compute percentiles over the means). (★★★) \n",
        "(**hint**: np.percentile)"
      ]
    },
    {
      "cell_type": "code",
      "execution_count": 23,
      "metadata": {
        "id": "xauLzVsfATm5",
        "colab": {
          "base_uri": "https://localhost:8080/"
        },
        "outputId": "23542fe4-af2d-4b22-eef0-b797f2842b1a"
      },
      "outputs": [
        {
          "output_type": "stream",
          "name": "stdout",
          "text": [
            "[-0.25151119  0.07623918]\n"
          ]
        }
      ],
      "source": [
        "X = np.random.randn(100)\n",
        "N = 1000 # number of samples\n",
        "idx = np.random.randint(0, X.size, (N, X.size))\n",
        "means = X[idx].mean(axis=1)\n",
        "confidence = np.percentile(means, [5, 95])\n",
        "print(confidence)"
      ]
    }
  ],
  "metadata": {
    "kernelspec": {
      "display_name": "Python 3",
      "language": "python",
      "name": "python3"
    },
    "language_info": {
      "codemirror_mode": {
        "name": "ipython",
        "version": 3
      },
      "file_extension": ".py",
      "mimetype": "text/x-python",
      "name": "python",
      "nbconvert_exporter": "python",
      "pygments_lexer": "ipython3",
      "version": "3.8.3"
    },
    "colab": {
      "name": "Assignment_Numpy_tasks.ipynb",
      "provenance": [],
      "include_colab_link": true
    }
  },
  "nbformat": 4,
  "nbformat_minor": 0
}